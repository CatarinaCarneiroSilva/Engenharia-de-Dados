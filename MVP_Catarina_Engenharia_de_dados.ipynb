{
 "cells": [
  {
   "cell_type": "markdown",
   "metadata": {
    "application/vnd.databricks.v1+cell": {
     "cellMetadata": {
      "byteLimit": 2048000,
      "rowLimit": 10000
     },
     "inputWidgets": {},
     "nuid": "2583d5cb-76a3-4839-8639-0ba521df89c8",
     "showTitle": false,
     "title": ""
    }
   },
   "source": [
    "# MVP de Engenharia de Dados\n",
    "\n",
    "## Catarina Carneiro da Silva"
   ]
  },
  {
   "cell_type": "markdown",
   "metadata": {
    "application/vnd.databricks.v1+cell": {
     "cellMetadata": {
      "byteLimit": 2048000,
      "rowLimit": 10000
     },
     "inputWidgets": {},
     "nuid": "ac35ccd7-9307-40ee-969f-91fa1c7b7466",
     "showTitle": false,
     "title": ""
    }
   },
   "source": [
    "Neste estudo o objetivo é analisar a influência de algumas características de um funcionário em seu salário, com foco no setor terciário (comércio, serviços e turismo). O dataset utilizado neste projeto são os microdados da RAIS 2022 (Relação Anual de Informações Sociais), proveniente do Ministério do Trabalho. Essa base de informações é muito abrangente, podendo originar diversas inferências. No entanto, para facilitar a encontrar o resultado desejado, utilizei um subconjunto da base original, considerando apenas as variáveis mais relevantes."
   ]
  },
  {
   "cell_type": "markdown",
   "metadata": {
    "application/vnd.databricks.v1+cell": {
     "cellMetadata": {
      "byteLimit": 2048000,
      "rowLimit": 10000
     },
     "inputWidgets": {},
     "nuid": "56a81372-c38b-4bc4-a10b-9c27a5421f0a",
     "showTitle": false,
     "title": ""
    }
   },
   "source": [
    "###Perguntas a serem respondidas:\n",
    "\n",
    "1- A discriminação das mulheres pode ser comprovada por dados? Qual o salário médio das mulheres e dos homens?\n",
    "\n",
    "2- A discriminação de raça pode ser comprovada por dados? Qual o salário médio de cada uma das raças analisadas?\n",
    "\n",
    "3- Acredita-se que as pessoas mais novas costumam receber salários menores devido a menor experiencia, pode-se comprovar essa crença com dados?\n",
    "\n",
    "4- Acredita-se que as pessoas com menor escolaridade costumam receber salários menores devido ao menor conhecimento, pode-se comprovar essa crença com dados?\n",
    "\n",
    "5- São Paulo (código 35) é considerado um dos estados mais avançados do país e, por isso, com maior nivel de salários. Pode-se comprovar essa crença com dados?\n",
    "\n",
    "6- Qual atividade do setor terciário apresenta o maior nível salarial?"
   ]
  },
  {
   "cell_type": "markdown",
   "metadata": {
    "application/vnd.databricks.v1+cell": {
     "cellMetadata": {
      "byteLimit": 2048000,
      "rowLimit": 10000
     },
     "inputWidgets": {},
     "nuid": "b621f96a-7fa6-477d-b8e5-73716eeb55cf",
     "showTitle": false,
     "title": ""
    }
   },
   "source": [
    "### Carga - Camada Bronze"
   ]
  },
  {
   "cell_type": "markdown",
   "metadata": {
    "application/vnd.databricks.v1+cell": {
     "cellMetadata": {
      "byteLimit": 2048000,
      "rowLimit": 10000
     },
     "inputWidgets": {},
     "nuid": "d312ebc4-64fa-432c-a703-547c44df2cda",
     "showTitle": false,
     "title": ""
    }
   },
   "source": [
    "Fiz o download dos microdados da RAIS de 2022 no site do Ministério do Trabalho em um arquivo CSV e criei uma nova tabela no Databricks Comunity Edition com base nesse arquivo."
   ]
  },
  {
   "cell_type": "code",
   "execution_count": 0,
   "metadata": {
    "application/vnd.databricks.v1+cell": {
     "cellMetadata": {
      "byteLimit": 2048000,
      "implicitDf": true,
      "rowLimit": 10000
     },
     "inputWidgets": {},
     "nuid": "46d33dcf-9c66-4ddc-9bca-ff8bfb435a80",
     "showTitle": false,
     "title": ""
    }
   },
   "outputs": [
    {
     "output_type": "display_data",
     "data": {
      "text/html": [
       "<style scoped>\n",
       "  .table-result-container {\n",
       "    max-height: 300px;\n",
       "    overflow: auto;\n",
       "  }\n",
       "  table, th, td {\n",
       "    border: 1px solid black;\n",
       "    border-collapse: collapse;\n",
       "  }\n",
       "  th, td {\n",
       "    padding: 5px;\n",
       "  }\n",
       "  th {\n",
       "    text-align: left;\n",
       "  }\n",
       "</style><div class='table-result-container'><table class='table-result'><thead style='background-color: white'><tr><th>cnae</th><th>faixa_etaria</th><th>escolaridade</th><th>idade</th><th>cor</th><th>sexo</th><th>uf</th><th>remuneracao</th></tr></thead><tbody><tr><td>94120</td><td>7</td><td>1</td><td>61</td><td>8</td><td>1</td><td>50</td><td>2014.0</td></tr><tr><td>84116</td><td>5</td><td>1</td><td>30</td><td>99</td><td>1</td><td>50</td><td>1116.52</td></tr><tr><td>84116</td><td>5</td><td>1</td><td>31</td><td>99</td><td>1</td><td>50</td><td>1091.7</td></tr><tr><td>84116</td><td>4</td><td>1</td><td>28</td><td>99</td><td>1</td><td>50</td><td>1091.7</td></tr><tr><td>84116</td><td>8</td><td>1</td><td>69</td><td>99</td><td>1</td><td>50</td><td>2075.62</td></tr><tr><td>84116</td><td>4</td><td>1</td><td>26</td><td>99</td><td>1</td><td>50</td><td>2553.11</td></tr><tr><td>84116</td><td>4</td><td>1</td><td>28</td><td>99</td><td>1</td><td>50</td><td>2533.8</td></tr><tr><td>84116</td><td>7</td><td>1</td><td>50</td><td>99</td><td>1</td><td>50</td><td>1212.0</td></tr><tr><td>84116</td><td>5</td><td>1</td><td>33</td><td>99</td><td>1</td><td>50</td><td>2724.79</td></tr><tr><td>84116</td><td>4</td><td>1</td><td>25</td><td>99</td><td>1</td><td>50</td><td>2706.22</td></tr></tbody></table></div>"
      ]
     },
     "metadata": {
      "application/vnd.databricks.v1+output": {
       "addedWidgets": {},
       "aggData": [],
       "aggError": "",
       "aggOverflow": false,
       "aggSchema": [],
       "aggSeriesLimitReached": false,
       "aggType": "",
       "arguments": {},
       "columnCustomDisplayInfos": {},
       "data": [
        [
         94120,
         7,
         1,
         61,
         8,
         1,
         50,
         2014.0
        ],
        [
         84116,
         5,
         1,
         30,
         99,
         1,
         50,
         1116.52
        ],
        [
         84116,
         5,
         1,
         31,
         99,
         1,
         50,
         1091.7
        ],
        [
         84116,
         4,
         1,
         28,
         99,
         1,
         50,
         1091.7
        ],
        [
         84116,
         8,
         1,
         69,
         99,
         1,
         50,
         2075.62
        ],
        [
         84116,
         4,
         1,
         26,
         99,
         1,
         50,
         2553.11
        ],
        [
         84116,
         4,
         1,
         28,
         99,
         1,
         50,
         2533.8
        ],
        [
         84116,
         7,
         1,
         50,
         99,
         1,
         50,
         1212.0
        ],
        [
         84116,
         5,
         1,
         33,
         99,
         1,
         50,
         2724.79
        ],
        [
         84116,
         4,
         1,
         25,
         99,
         1,
         50,
         2706.22
        ]
       ],
       "datasetInfos": [],
       "dbfsResultPath": null,
       "isJsonSchema": true,
       "metadata": {},
       "overflow": false,
       "plotOptions": {
        "customPlotOptions": {},
        "displayType": "table",
        "pivotAggregation": null,
        "pivotColumns": null,
        "xColumns": null,
        "yColumns": null
       },
       "removedWidgets": [],
       "schema": [
        {
         "metadata": "{}",
         "name": "cnae",
         "type": "\"integer\""
        },
        {
         "metadata": "{}",
         "name": "faixa_etaria",
         "type": "\"integer\""
        },
        {
         "metadata": "{}",
         "name": "escolaridade",
         "type": "\"integer\""
        },
        {
         "metadata": "{}",
         "name": "idade",
         "type": "\"integer\""
        },
        {
         "metadata": "{}",
         "name": "cor",
         "type": "\"integer\""
        },
        {
         "metadata": "{}",
         "name": "sexo",
         "type": "\"integer\""
        },
        {
         "metadata": "{}",
         "name": "uf",
         "type": "\"integer\""
        },
        {
         "metadata": "{}",
         "name": "remuneracao",
         "type": "\"double\""
        }
       ],
       "type": "table"
      }
     },
     "output_type": "display_data"
    }
   ],
   "source": [
    "%sql\n",
    "SELECT *\n",
    "FROM rais2022\n",
    "limit 10"
   ]
  },
  {
   "cell_type": "markdown",
   "metadata": {
    "application/vnd.databricks.v1+cell": {
     "cellMetadata": {
      "byteLimit": 2048000,
      "rowLimit": 10000
     },
     "inputWidgets": {},
     "nuid": "498593e7-6a60-4b2b-83b2-7579272b0a4e",
     "showTitle": false,
     "title": ""
    }
   },
   "source": [
    "###Catálogo de dados:\n",
    "\n",
    "CNAE - CNAE da atividade do emprego segundo a classificação 2.0 com a segmentação por classe. Neste momento encontram-se todas as CNAES registradas na RAIS, no entanto para analisar somente o setor terciário, como pretendido, terei que filtrar apenas as classes entre 45111 e 69206 na próxima etapa.\n",
    "\n",
    "Como são 673 classes registradas, deixarei para especificar cada uma na próxima etapa, quando os dados já estiverem filtrados para o setor desejado."
   ]
  },
  {
   "cell_type": "code",
   "execution_count": 0,
   "metadata": {
    "application/vnd.databricks.v1+cell": {
     "cellMetadata": {
      "byteLimit": 2048000,
      "implicitDf": true,
      "rowLimit": 10000
     },
     "inputWidgets": {},
     "nuid": "8b08188c-aae4-4104-b91f-5287640c1fc9",
     "showTitle": false,
     "title": ""
    }
   },
   "outputs": [
    {
     "output_type": "display_data",
     "data": {
      "text/html": [
       "<style scoped>\n",
       "  .table-result-container {\n",
       "    max-height: 300px;\n",
       "    overflow: auto;\n",
       "  }\n",
       "  table, th, td {\n",
       "    border: 1px solid black;\n",
       "    border-collapse: collapse;\n",
       "  }\n",
       "  th, td {\n",
       "    padding: 5px;\n",
       "  }\n",
       "  th {\n",
       "    text-align: left;\n",
       "  }\n",
       "</style><div class='table-result-container'><table class='table-result'><thead style='background-color: white'><tr><th>cnae</th></tr></thead><tbody><tr><td>99008</td></tr><tr><td>97005</td></tr><tr><td>96092</td></tr><tr><td>96033</td></tr><tr><td>96025</td></tr><tr><td>96017</td></tr><tr><td>95291</td></tr><tr><td>95215</td></tr><tr><td>95126</td></tr><tr><td>95118</td></tr></tbody></table></div>"
      ]
     },
     "metadata": {
      "application/vnd.databricks.v1+output": {
       "addedWidgets": {},
       "aggData": [],
       "aggError": "",
       "aggOverflow": false,
       "aggSchema": [],
       "aggSeriesLimitReached": false,
       "aggType": "",
       "arguments": {},
       "columnCustomDisplayInfos": {},
       "data": [
        [
         99008
        ],
        [
         97005
        ],
        [
         96092
        ],
        [
         96033
        ],
        [
         96025
        ],
        [
         96017
        ],
        [
         95291
        ],
        [
         95215
        ],
        [
         95126
        ],
        [
         95118
        ]
       ],
       "datasetInfos": [],
       "dbfsResultPath": null,
       "isJsonSchema": true,
       "metadata": {},
       "overflow": false,
       "plotOptions": {
        "customPlotOptions": {},
        "displayType": "table",
        "pivotAggregation": null,
        "pivotColumns": null,
        "xColumns": null,
        "yColumns": null
       },
       "removedWidgets": [],
       "schema": [
        {
         "metadata": "{}",
         "name": "cnae",
         "type": "\"integer\""
        }
       ],
       "type": "table"
      }
     },
     "output_type": "display_data"
    }
   ],
   "source": [
    "%sql\n",
    "SELECT DISTINCT cnae\n",
    "FROM rais2022\n",
    "ORDER BY cnae DESC\n",
    "LIMIT 10;"
   ]
  },
  {
   "cell_type": "code",
   "execution_count": 0,
   "metadata": {
    "application/vnd.databricks.v1+cell": {
     "cellMetadata": {
      "byteLimit": 2048000,
      "implicitDf": true,
      "rowLimit": 10000
     },
     "inputWidgets": {},
     "nuid": "65058415-ffc6-45b2-b9aa-a4ae36c7d2ab",
     "showTitle": false,
     "title": ""
    }
   },
   "outputs": [
    {
     "output_type": "display_data",
     "data": {
      "text/html": [
       "<style scoped>\n",
       "  .table-result-container {\n",
       "    max-height: 300px;\n",
       "    overflow: auto;\n",
       "  }\n",
       "  table, th, td {\n",
       "    border: 1px solid black;\n",
       "    border-collapse: collapse;\n",
       "  }\n",
       "  th, td {\n",
       "    padding: 5px;\n",
       "  }\n",
       "  th {\n",
       "    text-align: left;\n",
       "  }\n",
       "</style><div class='table-result-container'><table class='table-result'><thead style='background-color: white'><tr><th>total_cnae</th></tr></thead><tbody><tr><td>673</td></tr></tbody></table></div>"
      ]
     },
     "metadata": {
      "application/vnd.databricks.v1+output": {
       "addedWidgets": {},
       "aggData": [],
       "aggError": "",
       "aggOverflow": false,
       "aggSchema": [],
       "aggSeriesLimitReached": false,
       "aggType": "",
       "arguments": {},
       "columnCustomDisplayInfos": {},
       "data": [
        [
         673
        ]
       ],
       "datasetInfos": [],
       "dbfsResultPath": null,
       "isJsonSchema": true,
       "metadata": {},
       "overflow": false,
       "plotOptions": {
        "customPlotOptions": {},
        "displayType": "table",
        "pivotAggregation": null,
        "pivotColumns": null,
        "xColumns": null,
        "yColumns": null
       },
       "removedWidgets": [],
       "schema": [
        {
         "metadata": "{}",
         "name": "total_cnae",
         "type": "\"long\""
        }
       ],
       "type": "table"
      }
     },
     "output_type": "display_data"
    }
   ],
   "source": [
    "%sql\n",
    "SELECT COUNT(DISTINCT cnae) AS total_cnae\n",
    "FROM rais2022;"
   ]
  },
  {
   "cell_type": "markdown",
   "metadata": {
    "application/vnd.databricks.v1+cell": {
     "cellMetadata": {
      "byteLimit": 2048000,
      "rowLimit": 10000
     },
     "inputWidgets": {},
     "nuid": "6767c2e8-2ebe-4368-86b8-0d2b85b5dfb3",
     "showTitle": false,
     "title": ""
    }
   },
   "source": [
    "Faixa_etaria - Faixa de idade do funcionário, valores esperados:\n",
    "\n",
    "1-entre 10 a 14 anos/\n",
    "\n",
    "2-entre 15 a 17 anos/\n",
    "\n",
    "3-entre 18 a 24 anos/\n",
    "\n",
    "4-entre 25 a 29 anos/\n",
    "\n",
    "5-entre 30 a 39 anos/\n",
    "\n",
    "6-entre 40 a 49 anos/\n",
    "\n",
    "7-entre 50 a 64 anos/\n",
    "\n",
    "8-65 anos ou mais.\n",
    "\n",
    "Na base de dados também encontrei a categoria 99, que são os dados informados como ignorados. Na próxima etapa precisarei filtrar essas informações."
   ]
  },
  {
   "cell_type": "code",
   "execution_count": 0,
   "metadata": {
    "application/vnd.databricks.v1+cell": {
     "cellMetadata": {
      "byteLimit": 2048000,
      "implicitDf": true,
      "rowLimit": 10000
     },
     "inputWidgets": {},
     "nuid": "726fd9c6-aa1a-4044-9ac1-946f4402fec4",
     "showTitle": false,
     "title": ""
    }
   },
   "outputs": [
    {
     "output_type": "display_data",
     "data": {
      "text/html": [
       "<style scoped>\n",
       "  .table-result-container {\n",
       "    max-height: 300px;\n",
       "    overflow: auto;\n",
       "  }\n",
       "  table, th, td {\n",
       "    border: 1px solid black;\n",
       "    border-collapse: collapse;\n",
       "  }\n",
       "  th, td {\n",
       "    padding: 5px;\n",
       "  }\n",
       "  th {\n",
       "    text-align: left;\n",
       "  }\n",
       "</style><div class='table-result-container'><table class='table-result'><thead style='background-color: white'><tr><th>faixa_etaria</th></tr></thead><tbody><tr><td>99</td></tr><tr><td>8</td></tr><tr><td>7</td></tr><tr><td>6</td></tr><tr><td>5</td></tr><tr><td>4</td></tr><tr><td>3</td></tr><tr><td>2</td></tr><tr><td>1</td></tr></tbody></table></div>"
      ]
     },
     "metadata": {
      "application/vnd.databricks.v1+output": {
       "addedWidgets": {},
       "aggData": [],
       "aggError": "",
       "aggOverflow": false,
       "aggSchema": [],
       "aggSeriesLimitReached": false,
       "aggType": "",
       "arguments": {},
       "columnCustomDisplayInfos": {},
       "data": [
        [
         99
        ],
        [
         8
        ],
        [
         7
        ],
        [
         6
        ],
        [
         5
        ],
        [
         4
        ],
        [
         3
        ],
        [
         2
        ],
        [
         1
        ]
       ],
       "datasetInfos": [],
       "dbfsResultPath": null,
       "isJsonSchema": true,
       "metadata": {},
       "overflow": false,
       "plotOptions": {
        "customPlotOptions": {},
        "displayType": "table",
        "pivotAggregation": null,
        "pivotColumns": null,
        "xColumns": null,
        "yColumns": null
       },
       "removedWidgets": [],
       "schema": [
        {
         "metadata": "{}",
         "name": "faixa_etaria",
         "type": "\"integer\""
        }
       ],
       "type": "table"
      }
     },
     "output_type": "display_data"
    }
   ],
   "source": [
    "%sql\n",
    "SELECT DISTINCT faixa_etaria\n",
    "FROM rais2022\n",
    "ORDER BY faixa_etaria DESC;"
   ]
  },
  {
   "cell_type": "markdown",
   "metadata": {
    "application/vnd.databricks.v1+cell": {
     "cellMetadata": {
      "byteLimit": 2048000,
      "rowLimit": 10000
     },
     "inputWidgets": {},
     "nuid": "44f047de-3f7d-45a8-9239-af43bbff66a0",
     "showTitle": false,
     "title": ""
    }
   },
   "source": [
    "Escolaridade - Escolaridade do funcionário, valores esperados:\n",
    "\n",
    "1-Analfabeto\n",
    "\n",
    "2-Até 5ª Incompleto\n",
    "\n",
    "3-5ª Completo Fundamental\n",
    "\n",
    "4-6ª a 9ª Fundamental\n",
    "\n",
    "5-Fundamental Completo\n",
    "\n",
    "6-Médio Incompleto\n",
    "\n",
    "7-Médio Completo\n",
    "\n",
    "8-Superior Incompleto\n",
    "\n",
    "9-Superior Completo\n",
    "\n",
    "10-Mestrado\n",
    "\n",
    "11-Doutorado\n",
    "\n",
    "Na base de dados também encontrei a categoria 99, que são os dados informados como ignorados. Na próxima etapa precisarei filtrar essas informações."
   ]
  },
  {
   "cell_type": "code",
   "execution_count": 0,
   "metadata": {
    "application/vnd.databricks.v1+cell": {
     "cellMetadata": {
      "byteLimit": 2048000,
      "implicitDf": true,
      "rowLimit": 10000
     },
     "inputWidgets": {},
     "nuid": "da7ccc89-db2b-47af-b20e-8d8ac2a1b9da",
     "showTitle": false,
     "title": ""
    }
   },
   "outputs": [
    {
     "output_type": "display_data",
     "data": {
      "text/html": [
       "<style scoped>\n",
       "  .table-result-container {\n",
       "    max-height: 300px;\n",
       "    overflow: auto;\n",
       "  }\n",
       "  table, th, td {\n",
       "    border: 1px solid black;\n",
       "    border-collapse: collapse;\n",
       "  }\n",
       "  th, td {\n",
       "    padding: 5px;\n",
       "  }\n",
       "  th {\n",
       "    text-align: left;\n",
       "  }\n",
       "</style><div class='table-result-container'><table class='table-result'><thead style='background-color: white'><tr><th>escolaridade</th></tr></thead><tbody><tr><td>99</td></tr><tr><td>11</td></tr><tr><td>10</td></tr><tr><td>9</td></tr><tr><td>8</td></tr><tr><td>7</td></tr><tr><td>6</td></tr><tr><td>5</td></tr><tr><td>4</td></tr><tr><td>3</td></tr><tr><td>2</td></tr><tr><td>1</td></tr></tbody></table></div>"
      ]
     },
     "metadata": {
      "application/vnd.databricks.v1+output": {
       "addedWidgets": {},
       "aggData": [],
       "aggError": "",
       "aggOverflow": false,
       "aggSchema": [],
       "aggSeriesLimitReached": false,
       "aggType": "",
       "arguments": {},
       "columnCustomDisplayInfos": {},
       "data": [
        [
         99
        ],
        [
         11
        ],
        [
         10
        ],
        [
         9
        ],
        [
         8
        ],
        [
         7
        ],
        [
         6
        ],
        [
         5
        ],
        [
         4
        ],
        [
         3
        ],
        [
         2
        ],
        [
         1
        ]
       ],
       "datasetInfos": [],
       "dbfsResultPath": null,
       "isJsonSchema": true,
       "metadata": {},
       "overflow": false,
       "plotOptions": {
        "customPlotOptions": {},
        "displayType": "table",
        "pivotAggregation": null,
        "pivotColumns": null,
        "xColumns": null,
        "yColumns": null
       },
       "removedWidgets": [],
       "schema": [
        {
         "metadata": "{}",
         "name": "escolaridade",
         "type": "\"integer\""
        }
       ],
       "type": "table"
      }
     },
     "output_type": "display_data"
    }
   ],
   "source": [
    "%sql\n",
    "SELECT DISTINCT escolaridade\n",
    "FROM rais2022\n",
    "ORDER BY escolaridade DESC;"
   ]
  },
  {
   "cell_type": "markdown",
   "metadata": {
    "application/vnd.databricks.v1+cell": {
     "cellMetadata": {
      "byteLimit": 2048000,
      "rowLimit": 10000
     },
     "inputWidgets": {},
     "nuid": "a8e32f0f-74b1-4533-845d-9606dd6fbd16",
     "showTitle": false,
     "title": ""
    }
   },
   "source": [
    "Idade - Idade do funcionário. Por conter valores próximos de 100 e 0 anos, essa série causa estranhamento e gera necessidade de atenção ao se trabalhar com esses dados."
   ]
  },
  {
   "cell_type": "code",
   "execution_count": 0,
   "metadata": {
    "application/vnd.databricks.v1+cell": {
     "cellMetadata": {
      "byteLimit": 2048000,
      "implicitDf": true,
      "rowLimit": 10000
     },
     "inputWidgets": {},
     "nuid": "547420c7-e8ed-4695-8ecd-d0eb8ce8e0c0",
     "showTitle": false,
     "title": ""
    }
   },
   "outputs": [
    {
     "output_type": "display_data",
     "data": {
      "text/html": [
       "<style scoped>\n",
       "  .table-result-container {\n",
       "    max-height: 300px;\n",
       "    overflow: auto;\n",
       "  }\n",
       "  table, th, td {\n",
       "    border: 1px solid black;\n",
       "    border-collapse: collapse;\n",
       "  }\n",
       "  th, td {\n",
       "    padding: 5px;\n",
       "  }\n",
       "  th {\n",
       "    text-align: left;\n",
       "  }\n",
       "</style><div class='table-result-container'><table class='table-result'><thead style='background-color: white'><tr><th>idade</th></tr></thead><tbody><tr><td>100</td></tr><tr><td>99</td></tr><tr><td>98</td></tr><tr><td>97</td></tr><tr><td>96</td></tr><tr><td>95</td></tr><tr><td>94</td></tr><tr><td>93</td></tr><tr><td>92</td></tr><tr><td>91</td></tr></tbody></table></div>"
      ]
     },
     "metadata": {
      "application/vnd.databricks.v1+output": {
       "addedWidgets": {},
       "aggData": [],
       "aggError": "",
       "aggOverflow": false,
       "aggSchema": [],
       "aggSeriesLimitReached": false,
       "aggType": "",
       "arguments": {},
       "columnCustomDisplayInfos": {},
       "data": [
        [
         100
        ],
        [
         99
        ],
        [
         98
        ],
        [
         97
        ],
        [
         96
        ],
        [
         95
        ],
        [
         94
        ],
        [
         93
        ],
        [
         92
        ],
        [
         91
        ]
       ],
       "datasetInfos": [],
       "dbfsResultPath": null,
       "isJsonSchema": true,
       "metadata": {},
       "overflow": false,
       "plotOptions": {
        "customPlotOptions": {},
        "displayType": "table",
        "pivotAggregation": null,
        "pivotColumns": null,
        "xColumns": null,
        "yColumns": null
       },
       "removedWidgets": [],
       "schema": [
        {
         "metadata": "{}",
         "name": "idade",
         "type": "\"integer\""
        }
       ],
       "type": "table"
      }
     },
     "output_type": "display_data"
    }
   ],
   "source": [
    "%sql\n",
    "SELECT DISTINCT idade\n",
    "FROM rais2022\n",
    "ORDER BY idade DESC\n",
    "LIMIT 10;"
   ]
  },
  {
   "cell_type": "code",
   "execution_count": 0,
   "metadata": {
    "application/vnd.databricks.v1+cell": {
     "cellMetadata": {
      "byteLimit": 2048000,
      "implicitDf": true,
      "rowLimit": 10000
     },
     "inputWidgets": {},
     "nuid": "a2f362ad-d242-4b82-a6d5-52c9acc5828f",
     "showTitle": false,
     "title": ""
    }
   },
   "outputs": [
    {
     "output_type": "display_data",
     "data": {
      "text/html": [
       "<style scoped>\n",
       "  .table-result-container {\n",
       "    max-height: 300px;\n",
       "    overflow: auto;\n",
       "  }\n",
       "  table, th, td {\n",
       "    border: 1px solid black;\n",
       "    border-collapse: collapse;\n",
       "  }\n",
       "  th, td {\n",
       "    padding: 5px;\n",
       "  }\n",
       "  th {\n",
       "    text-align: left;\n",
       "  }\n",
       "</style><div class='table-result-container'><table class='table-result'><thead style='background-color: white'><tr><th>valor_maximo_idade</th><th>valor_minimo_idade</th></tr></thead><tbody><tr><td>100</td><td>0</td></tr></tbody></table></div>"
      ]
     },
     "metadata": {
      "application/vnd.databricks.v1+output": {
       "addedWidgets": {},
       "aggData": [],
       "aggError": "",
       "aggOverflow": false,
       "aggSchema": [],
       "aggSeriesLimitReached": false,
       "aggType": "",
       "arguments": {},
       "columnCustomDisplayInfos": {},
       "data": [
        [
         100,
         0
        ]
       ],
       "datasetInfos": [],
       "dbfsResultPath": null,
       "isJsonSchema": true,
       "metadata": {},
       "overflow": false,
       "plotOptions": {
        "customPlotOptions": {},
        "displayType": "table",
        "pivotAggregation": null,
        "pivotColumns": null,
        "xColumns": null,
        "yColumns": null
       },
       "removedWidgets": [],
       "schema": [
        {
         "metadata": "{}",
         "name": "valor_maximo_idade",
         "type": "\"integer\""
        },
        {
         "metadata": "{}",
         "name": "valor_minimo_idade",
         "type": "\"integer\""
        }
       ],
       "type": "table"
      }
     },
     "output_type": "display_data"
    }
   ],
   "source": [
    "%sql\n",
    "SELECT \n",
    "  MAX(idade) AS valor_maximo_idade,\n",
    "  MIN(idade) AS valor_minimo_idade\n",
    "FROM rais2022;"
   ]
  },
  {
   "cell_type": "markdown",
   "metadata": {
    "application/vnd.databricks.v1+cell": {
     "cellMetadata": {},
     "inputWidgets": {},
     "nuid": "004592c9-c6f4-43dc-be73-d1c346f4c96f",
     "showTitle": false,
     "title": ""
    }
   },
   "source": []
  },
  {
   "cell_type": "markdown",
   "metadata": {
    "application/vnd.databricks.v1+cell": {
     "cellMetadata": {
      "byteLimit": 2048000,
      "rowLimit": 10000
     },
     "inputWidgets": {},
     "nuid": "cf0c526c-35ad-4914-9321-718dcea1f383",
     "showTitle": false,
     "title": ""
    }
   },
   "source": [
    "Cor - Raça/cor segundo funcionário, valores esperados:\n",
    "\n",
    "1-Indígena\n",
    "\n",
    "2- Branca\n",
    "\n",
    "4- Preta\n",
    "\n",
    "6- Amarela\n",
    "\n",
    "8- Parda\n",
    "\n",
    "9- Não informado\n",
    "\n",
    "Na base de dados também encontrei a categoria 99, que são os dados informados como ignorados. Na próxima etapa precisarei filtrar essas informações assim como a categoria 9 (não informado)."
   ]
  },
  {
   "cell_type": "code",
   "execution_count": 0,
   "metadata": {
    "application/vnd.databricks.v1+cell": {
     "cellMetadata": {
      "byteLimit": 2048000,
      "implicitDf": true,
      "rowLimit": 10000
     },
     "inputWidgets": {},
     "nuid": "ec608491-79d4-482a-ab6d-7c07d69a9537",
     "showTitle": false,
     "title": ""
    }
   },
   "outputs": [
    {
     "output_type": "display_data",
     "data": {
      "text/html": [
       "<style scoped>\n",
       "  .table-result-container {\n",
       "    max-height: 300px;\n",
       "    overflow: auto;\n",
       "  }\n",
       "  table, th, td {\n",
       "    border: 1px solid black;\n",
       "    border-collapse: collapse;\n",
       "  }\n",
       "  th, td {\n",
       "    padding: 5px;\n",
       "  }\n",
       "  th {\n",
       "    text-align: left;\n",
       "  }\n",
       "</style><div class='table-result-container'><table class='table-result'><thead style='background-color: white'><tr><th>cor</th></tr></thead><tbody><tr><td>99</td></tr><tr><td>9</td></tr><tr><td>8</td></tr><tr><td>6</td></tr><tr><td>4</td></tr><tr><td>2</td></tr><tr><td>1</td></tr></tbody></table></div>"
      ]
     },
     "metadata": {
      "application/vnd.databricks.v1+output": {
       "addedWidgets": {},
       "aggData": [],
       "aggError": "",
       "aggOverflow": false,
       "aggSchema": [],
       "aggSeriesLimitReached": false,
       "aggType": "",
       "arguments": {},
       "columnCustomDisplayInfos": {},
       "data": [
        [
         99
        ],
        [
         9
        ],
        [
         8
        ],
        [
         6
        ],
        [
         4
        ],
        [
         2
        ],
        [
         1
        ]
       ],
       "datasetInfos": [],
       "dbfsResultPath": null,
       "isJsonSchema": true,
       "metadata": {},
       "overflow": false,
       "plotOptions": {
        "customPlotOptions": {},
        "displayType": "table",
        "pivotAggregation": null,
        "pivotColumns": null,
        "xColumns": null,
        "yColumns": null
       },
       "removedWidgets": [],
       "schema": [
        {
         "metadata": "{}",
         "name": "cor",
         "type": "\"integer\""
        }
       ],
       "type": "table"
      }
     },
     "output_type": "display_data"
    }
   ],
   "source": [
    "%sql\n",
    "SELECT DISTINCT cor\n",
    "FROM rais2022\n",
    "ORDER BY cor DESC;"
   ]
  },
  {
   "cell_type": "markdown",
   "metadata": {
    "application/vnd.databricks.v1+cell": {
     "cellMetadata": {
      "byteLimit": 2048000,
      "rowLimit": 10000
     },
     "inputWidgets": {},
     "nuid": "9ac5b758-9df9-4cb1-ac0a-bd6f4c961fde",
     "showTitle": false,
     "title": ""
    }
   },
   "source": [
    "Sexo - Gênero segundo funcionário, valores esperados:\n",
    "\n",
    "1- Masculino\n",
    "\n",
    "2- Feminino\n",
    "\n",
    "9- Ignorado\n",
    "\n",
    "Na próxima etapa precisarei filtrar as informações da categoria 9, que são os dados informados como ignorados."
   ]
  },
  {
   "cell_type": "code",
   "execution_count": 0,
   "metadata": {
    "application/vnd.databricks.v1+cell": {
     "cellMetadata": {
      "byteLimit": 2048000,
      "implicitDf": true,
      "rowLimit": 10000
     },
     "inputWidgets": {},
     "nuid": "f9f54246-33b2-4aee-bc60-fc24d884a954",
     "showTitle": false,
     "title": ""
    }
   },
   "outputs": [
    {
     "output_type": "display_data",
     "data": {
      "text/html": [
       "<style scoped>\n",
       "  .table-result-container {\n",
       "    max-height: 300px;\n",
       "    overflow: auto;\n",
       "  }\n",
       "  table, th, td {\n",
       "    border: 1px solid black;\n",
       "    border-collapse: collapse;\n",
       "  }\n",
       "  th, td {\n",
       "    padding: 5px;\n",
       "  }\n",
       "  th {\n",
       "    text-align: left;\n",
       "  }\n",
       "</style><div class='table-result-container'><table class='table-result'><thead style='background-color: white'><tr><th>sexo</th></tr></thead><tbody><tr><td>9</td></tr><tr><td>2</td></tr><tr><td>1</td></tr></tbody></table></div>"
      ]
     },
     "metadata": {
      "application/vnd.databricks.v1+output": {
       "addedWidgets": {},
       "aggData": [],
       "aggError": "",
       "aggOverflow": false,
       "aggSchema": [],
       "aggSeriesLimitReached": false,
       "aggType": "",
       "arguments": {},
       "columnCustomDisplayInfos": {},
       "data": [
        [
         9
        ],
        [
         2
        ],
        [
         1
        ]
       ],
       "datasetInfos": [],
       "dbfsResultPath": null,
       "isJsonSchema": true,
       "metadata": {},
       "overflow": false,
       "plotOptions": {
        "customPlotOptions": {},
        "displayType": "table",
        "pivotAggregation": null,
        "pivotColumns": null,
        "xColumns": null,
        "yColumns": null
       },
       "removedWidgets": [],
       "schema": [
        {
         "metadata": "{}",
         "name": "sexo",
         "type": "\"integer\""
        }
       ],
       "type": "table"
      }
     },
     "output_type": "display_data"
    }
   ],
   "source": [
    "%sql\n",
    "SELECT DISTINCT sexo\n",
    "FROM rais2022\n",
    "ORDER BY sexo DESC;"
   ]
  },
  {
   "cell_type": "markdown",
   "metadata": {
    "application/vnd.databricks.v1+cell": {
     "cellMetadata": {
      "byteLimit": 2048000,
      "rowLimit": 10000
     },
     "inputWidgets": {},
     "nuid": "ce3a9c50-eb2e-4a71-87c3-61e839e50a3e",
     "showTitle": false,
     "title": ""
    }
   },
   "source": [
    "UF - 26 estados brasileiros e o Distrito Federal, valores esperados:\n",
    "11 - Rondônia /\t12 - Acre /\t13 - Amazonas /\t14 - Roraima /\t15 - Para /\t16 - Amapa /\t17 - Tocantins /\t21 - Maranhão /\t22 - Piaui /\t23 - Ceará /\t24 - Rio Grande do Norte /\t25 - Paraíba /\t26 - Pernambuco /\t27 - Alagoas /\t28 - Sergipe /\t29 - Bahia /\t31 - Minas Gerais /\t32 - Espírito Santo\t/ 33 - Rio de Janeiro /\t35 - São Paulo /\t41 - Paraná /\t42 - Santa Catarina /\t43 - Rio Grande do Sul /\t50 - Mato Grosso do Sul /\t51 - Mato Grosso /\t52 - Goiás /\t53 - Distrito Federal\n",
    "\n",
    "Na base de dados também encontrei a categoria 99, que são os dados informados como ignorados. Na próxima etapa precisarei filtrar essas informações."
   ]
  },
  {
   "cell_type": "code",
   "execution_count": 0,
   "metadata": {
    "application/vnd.databricks.v1+cell": {
     "cellMetadata": {
      "byteLimit": 2048000,
      "implicitDf": true,
      "rowLimit": 10000
     },
     "inputWidgets": {},
     "nuid": "6450d4fa-c334-40fe-b83f-57db65f9c2cc",
     "showTitle": false,
     "title": ""
    }
   },
   "outputs": [
    {
     "output_type": "display_data",
     "data": {
      "text/html": [
       "<style scoped>\n",
       "  .table-result-container {\n",
       "    max-height: 300px;\n",
       "    overflow: auto;\n",
       "  }\n",
       "  table, th, td {\n",
       "    border: 1px solid black;\n",
       "    border-collapse: collapse;\n",
       "  }\n",
       "  th, td {\n",
       "    padding: 5px;\n",
       "  }\n",
       "  th {\n",
       "    text-align: left;\n",
       "  }\n",
       "</style><div class='table-result-container'><table class='table-result'><thead style='background-color: white'><tr><th>uf</th></tr></thead><tbody><tr><td>99</td></tr><tr><td>53</td></tr><tr><td>52</td></tr><tr><td>51</td></tr><tr><td>50</td></tr><tr><td>43</td></tr><tr><td>42</td></tr><tr><td>41</td></tr><tr><td>35</td></tr><tr><td>33</td></tr><tr><td>32</td></tr><tr><td>31</td></tr><tr><td>29</td></tr><tr><td>28</td></tr><tr><td>27</td></tr><tr><td>26</td></tr><tr><td>25</td></tr><tr><td>24</td></tr><tr><td>23</td></tr><tr><td>22</td></tr><tr><td>21</td></tr><tr><td>17</td></tr><tr><td>16</td></tr><tr><td>15</td></tr><tr><td>14</td></tr><tr><td>13</td></tr><tr><td>12</td></tr><tr><td>11</td></tr></tbody></table></div>"
      ]
     },
     "metadata": {
      "application/vnd.databricks.v1+output": {
       "addedWidgets": {},
       "aggData": [],
       "aggError": "",
       "aggOverflow": false,
       "aggSchema": [],
       "aggSeriesLimitReached": false,
       "aggType": "",
       "arguments": {},
       "columnCustomDisplayInfos": {},
       "data": [
        [
         99
        ],
        [
         53
        ],
        [
         52
        ],
        [
         51
        ],
        [
         50
        ],
        [
         43
        ],
        [
         42
        ],
        [
         41
        ],
        [
         35
        ],
        [
         33
        ],
        [
         32
        ],
        [
         31
        ],
        [
         29
        ],
        [
         28
        ],
        [
         27
        ],
        [
         26
        ],
        [
         25
        ],
        [
         24
        ],
        [
         23
        ],
        [
         22
        ],
        [
         21
        ],
        [
         17
        ],
        [
         16
        ],
        [
         15
        ],
        [
         14
        ],
        [
         13
        ],
        [
         12
        ],
        [
         11
        ]
       ],
       "datasetInfos": [],
       "dbfsResultPath": null,
       "isJsonSchema": true,
       "metadata": {},
       "overflow": false,
       "plotOptions": {
        "customPlotOptions": {},
        "displayType": "table",
        "pivotAggregation": null,
        "pivotColumns": null,
        "xColumns": null,
        "yColumns": null
       },
       "removedWidgets": [],
       "schema": [
        {
         "metadata": "{}",
         "name": "uf",
         "type": "\"integer\""
        }
       ],
       "type": "table"
      }
     },
     "output_type": "display_data"
    }
   ],
   "source": [
    "%sql\n",
    "SELECT DISTINCT uf\n",
    "FROM rais2022\n",
    "ORDER BY uf DESC;"
   ]
  },
  {
   "cell_type": "markdown",
   "metadata": {
    "application/vnd.databricks.v1+cell": {
     "cellMetadata": {
      "byteLimit": 2048000,
      "rowLimit": 10000
     },
     "inputWidgets": {},
     "nuid": "e76b0dc9-d0cc-40da-b06e-91b457616df2",
     "showTitle": false,
     "title": ""
    }
   },
   "source": [
    "remuneração - Remuneração média dos funcionários"
   ]
  },
  {
   "cell_type": "code",
   "execution_count": 0,
   "metadata": {
    "application/vnd.databricks.v1+cell": {
     "cellMetadata": {
      "byteLimit": 2048000,
      "implicitDf": true,
      "rowLimit": 10000
     },
     "inputWidgets": {},
     "nuid": "7d09e260-15cb-43f7-8ed4-a2a01d249383",
     "showTitle": false,
     "title": ""
    }
   },
   "outputs": [
    {
     "output_type": "display_data",
     "data": {
      "text/html": [
       "<style scoped>\n",
       "  .table-result-container {\n",
       "    max-height: 300px;\n",
       "    overflow: auto;\n",
       "  }\n",
       "  table, th, td {\n",
       "    border: 1px solid black;\n",
       "    border-collapse: collapse;\n",
       "  }\n",
       "  th, td {\n",
       "    padding: 5px;\n",
       "  }\n",
       "  th {\n",
       "    text-align: left;\n",
       "  }\n",
       "</style><div class='table-result-container'><table class='table-result'><thead style='background-color: white'><tr><th>remuneracao</th></tr></thead><tbody><tr><td>3755863.0</td></tr><tr><td>3700000.08</td></tr><tr><td>3568937.82</td></tr><tr><td>3543183.0</td></tr><tr><td>3520000.0</td></tr><tr><td>3510114.6</td></tr><tr><td>3500000.07</td></tr><tr><td>3480000.0</td></tr><tr><td>3474116.26</td></tr><tr><td>3381833.6</td></tr></tbody></table></div>"
      ]
     },
     "metadata": {
      "application/vnd.databricks.v1+output": {
       "addedWidgets": {},
       "aggData": [],
       "aggError": "",
       "aggOverflow": false,
       "aggSchema": [],
       "aggSeriesLimitReached": false,
       "aggType": "",
       "arguments": {},
       "columnCustomDisplayInfos": {},
       "data": [
        [
         3755863.0
        ],
        [
         3700000.08
        ],
        [
         3568937.82
        ],
        [
         3543183.0
        ],
        [
         3520000.0
        ],
        [
         3510114.6
        ],
        [
         3500000.07
        ],
        [
         3480000.0
        ],
        [
         3474116.26
        ],
        [
         3381833.6
        ]
       ],
       "datasetInfos": [],
       "dbfsResultPath": null,
       "isJsonSchema": true,
       "metadata": {},
       "overflow": false,
       "plotOptions": {
        "customPlotOptions": {},
        "displayType": "table",
        "pivotAggregation": null,
        "pivotColumns": null,
        "xColumns": null,
        "yColumns": null
       },
       "removedWidgets": [],
       "schema": [
        {
         "metadata": "{}",
         "name": "remuneracao",
         "type": "\"double\""
        }
       ],
       "type": "table"
      }
     },
     "output_type": "display_data"
    }
   ],
   "source": [
    "%sql\n",
    "SELECT DISTINCT remuneracao\n",
    "FROM rais2022\n",
    "ORDER BY remuneracao DESC\n",
    "limit 10;"
   ]
  },
  {
   "cell_type": "markdown",
   "metadata": {
    "application/vnd.databricks.v1+cell": {
     "cellMetadata": {
      "byteLimit": 2048000,
      "rowLimit": 10000
     },
     "inputWidgets": {},
     "nuid": "f2b063f8-7e13-4c0b-b2ac-f3ef19893419",
     "showTitle": false,
     "title": ""
    }
   },
   "source": [
    "###Transformação - Camada Silver\n",
    "Para facilitar a consulta e limpar a base de dados farei as transformações necessárias.\n",
    "Primeiro deletarei a coluna idade, já que os dados parecem estranhos e na coluna faixa_etaria os valores já aparecem agrupados, o que facilita a análise e oferece maior credibilidade ao resultado.\n",
    "\n",
    "Para trabalhar apenas o setor terciário, como pretendido, filtrarei a coluna cnae para conter apenas as CNAES desse setor (entre as classes 45111 e 69206).\n",
    "\n",
    "Para limpar o dataset, excluirei os seguintes dados:\n",
    "o gênero que não corresponde ao sexo Feminino ou Masculino,  faixa etária e escolaridade com resultados ignorados, a cor com informações diferentes das tradicionais e as uf ignoradas."
   ]
  },
  {
   "cell_type": "code",
   "execution_count": 0,
   "metadata": {
    "application/vnd.databricks.v1+cell": {
     "cellMetadata": {
      "byteLimit": 2048000,
      "implicitDf": true,
      "rowLimit": 10000
     },
     "inputWidgets": {},
     "nuid": "ad77b768-7ef1-482f-b0c6-18bde07a5945",
     "showTitle": false,
     "title": ""
    }
   },
   "outputs": [
    {
     "output_type": "display_data",
     "data": {
      "text/html": [
       "<style scoped>\n",
       "  .table-result-container {\n",
       "    max-height: 300px;\n",
       "    overflow: auto;\n",
       "  }\n",
       "  table, th, td {\n",
       "    border: 1px solid black;\n",
       "    border-collapse: collapse;\n",
       "  }\n",
       "  th, td {\n",
       "    padding: 5px;\n",
       "  }\n",
       "  th {\n",
       "    text-align: left;\n",
       "  }\n",
       "</style><div class='table-result-container'><table class='table-result'><thead style='background-color: white'><tr><th>cnae</th><th>escolaridade</th><th>faixa_etaria</th><th>cor</th><th>sexo</th><th>remuneracao</th><th>uf</th></tr></thead><tbody><tr><td>49302</td><td>1</td><td>6</td><td>8</td><td>1</td><td>1450.0</td><td>50</td></tr><tr><td>55108</td><td>1</td><td>5</td><td>2</td><td>1</td><td>1506.91</td><td>50</td></tr><tr><td>49213</td><td>1</td><td>6</td><td>2</td><td>1</td><td>0.0</td><td>50</td></tr><tr><td>47296</td><td>1</td><td>4</td><td>8</td><td>1</td><td>1978.38</td><td>50</td></tr><tr><td>47113</td><td>1</td><td>6</td><td>2</td><td>1</td><td>0.0</td><td>50</td></tr><tr><td>47440</td><td>1</td><td>7</td><td>6</td><td>1</td><td>1212.0</td><td>50</td></tr><tr><td>49248</td><td>1</td><td>6</td><td>1</td><td>1</td><td>0.0</td><td>50</td></tr><tr><td>45307</td><td>1</td><td>7</td><td>8</td><td>1</td><td>1782.22</td><td>50</td></tr><tr><td>47440</td><td>1</td><td>6</td><td>8</td><td>1</td><td>2100.91</td><td>50</td></tr><tr><td>55108</td><td>1</td><td>7</td><td>2</td><td>1</td><td>1542.4</td><td>50</td></tr></tbody></table></div>"
      ]
     },
     "metadata": {
      "application/vnd.databricks.v1+output": {
       "addedWidgets": {},
       "aggData": [],
       "aggError": "",
       "aggOverflow": false,
       "aggSchema": [],
       "aggSeriesLimitReached": false,
       "aggType": "",
       "arguments": {},
       "columnCustomDisplayInfos": {},
       "data": [
        [
         49302,
         1,
         6,
         8,
         1,
         1450.0,
         50
        ],
        [
         55108,
         1,
         5,
         2,
         1,
         1506.91,
         50
        ],
        [
         49213,
         1,
         6,
         2,
         1,
         0.0,
         50
        ],
        [
         47296,
         1,
         4,
         8,
         1,
         1978.38,
         50
        ],
        [
         47113,
         1,
         6,
         2,
         1,
         0.0,
         50
        ],
        [
         47440,
         1,
         7,
         6,
         1,
         1212.0,
         50
        ],
        [
         49248,
         1,
         6,
         1,
         1,
         0.0,
         50
        ],
        [
         45307,
         1,
         7,
         8,
         1,
         1782.22,
         50
        ],
        [
         47440,
         1,
         6,
         8,
         1,
         2100.91,
         50
        ],
        [
         55108,
         1,
         7,
         2,
         1,
         1542.4,
         50
        ]
       ],
       "datasetInfos": [],
       "dbfsResultPath": null,
       "isJsonSchema": true,
       "metadata": {},
       "overflow": false,
       "plotOptions": {
        "customPlotOptions": {},
        "displayType": "table",
        "pivotAggregation": null,
        "pivotColumns": null,
        "xColumns": null,
        "yColumns": null
       },
       "removedWidgets": [],
       "schema": [
        {
         "metadata": "{}",
         "name": "cnae",
         "type": "\"integer\""
        },
        {
         "metadata": "{}",
         "name": "escolaridade",
         "type": "\"integer\""
        },
        {
         "metadata": "{}",
         "name": "faixa_etaria",
         "type": "\"integer\""
        },
        {
         "metadata": "{}",
         "name": "cor",
         "type": "\"integer\""
        },
        {
         "metadata": "{}",
         "name": "sexo",
         "type": "\"integer\""
        },
        {
         "metadata": "{}",
         "name": "remuneracao",
         "type": "\"double\""
        },
        {
         "metadata": "{}",
         "name": "uf",
         "type": "\"integer\""
        }
       ],
       "type": "table"
      }
     },
     "output_type": "display_data"
    }
   ],
   "source": [
    "%sql\n",
    "\n",
    "CREATE OR REPLACE TABLE rais2022_silver AS\n",
    "SELECT cnae, escolaridade, faixa_etaria, cor, sexo, remuneracao, uf\n",
    "FROM rais2022\n",
    "WHERE cnae >= 45111 AND cnae <= 69206\n",
    "  AND sexo!=9\n",
    "  AND faixa_etaria !=99\n",
    "  AND escolaridade !=99\n",
    "  AND cor!=9\n",
    "  AND cor!=99\n",
    "  AND uf!=99;\n",
    "\n",
    "SELECT * FROM rais2022_silver LIMIT 10;"
   ]
  },
  {
   "cell_type": "code",
   "execution_count": 0,
   "metadata": {
    "application/vnd.databricks.v1+cell": {
     "cellMetadata": {
      "byteLimit": 2048000,
      "implicitDf": true,
      "rowLimit": 10000
     },
     "inputWidgets": {},
     "nuid": "7b16db55-6303-4694-b36e-68185af8ab3f",
     "showTitle": false,
     "title": ""
    }
   },
   "outputs": [
    {
     "output_type": "display_data",
     "data": {
      "text/html": [
       "<style scoped>\n",
       "  .table-result-container {\n",
       "    max-height: 300px;\n",
       "    overflow: auto;\n",
       "  }\n",
       "  table, th, td {\n",
       "    border: 1px solid black;\n",
       "    border-collapse: collapse;\n",
       "  }\n",
       "  th, td {\n",
       "    padding: 5px;\n",
       "  }\n",
       "  th {\n",
       "    text-align: left;\n",
       "  }\n",
       "</style><div class='table-result-container'><table class='table-result'><thead style='background-color: white'><tr><th>cnae</th></tr></thead><tbody><tr><td>69206</td></tr><tr><td>69125</td></tr><tr><td>69117</td></tr><tr><td>68226</td></tr><tr><td>68218</td></tr><tr><td>68102</td></tr><tr><td>66304</td></tr><tr><td>66291</td></tr><tr><td>66223</td></tr><tr><td>66215</td></tr></tbody></table></div>"
      ]
     },
     "metadata": {
      "application/vnd.databricks.v1+output": {
       "addedWidgets": {},
       "aggData": [],
       "aggError": "",
       "aggOverflow": false,
       "aggSchema": [],
       "aggSeriesLimitReached": false,
       "aggType": "",
       "arguments": {},
       "columnCustomDisplayInfos": {},
       "data": [
        [
         69206
        ],
        [
         69125
        ],
        [
         69117
        ],
        [
         68226
        ],
        [
         68218
        ],
        [
         68102
        ],
        [
         66304
        ],
        [
         66291
        ],
        [
         66223
        ],
        [
         66215
        ]
       ],
       "datasetInfos": [],
       "dbfsResultPath": null,
       "isJsonSchema": true,
       "metadata": {},
       "overflow": false,
       "plotOptions": {
        "customPlotOptions": {},
        "displayType": "table",
        "pivotAggregation": null,
        "pivotColumns": null,
        "xColumns": null,
        "yColumns": null
       },
       "removedWidgets": [],
       "schema": [
        {
         "metadata": "{}",
         "name": "cnae",
         "type": "\"integer\""
        }
       ],
       "type": "table"
      }
     },
     "output_type": "display_data"
    }
   ],
   "source": [
    "%sql\n",
    "SELECT DISTINCT cnae\n",
    "FROM rais2022_silver\n",
    "ORDER BY cnae DESC\n",
    "LIMIT 10;"
   ]
  },
  {
   "cell_type": "code",
   "execution_count": 0,
   "metadata": {
    "application/vnd.databricks.v1+cell": {
     "cellMetadata": {
      "byteLimit": 2048000,
      "implicitDf": true,
      "rowLimit": 10000
     },
     "inputWidgets": {},
     "nuid": "4d36d83f-45e5-4243-84d9-47e7486404a1",
     "showTitle": false,
     "title": ""
    }
   },
   "outputs": [
    {
     "output_type": "display_data",
     "data": {
      "text/html": [
       "<style scoped>\n",
       "  .table-result-container {\n",
       "    max-height: 300px;\n",
       "    overflow: auto;\n",
       "  }\n",
       "  table, th, td {\n",
       "    border: 1px solid black;\n",
       "    border-collapse: collapse;\n",
       "  }\n",
       "  th, td {\n",
       "    padding: 5px;\n",
       "  }\n",
       "  th {\n",
       "    text-align: left;\n",
       "  }\n",
       "</style><div class='table-result-container'><table class='table-result'><thead style='background-color: white'><tr><th>total_cnae2</th></tr></thead><tbody><tr><td>209</td></tr></tbody></table></div>"
      ]
     },
     "metadata": {
      "application/vnd.databricks.v1+output": {
       "addedWidgets": {},
       "aggData": [],
       "aggError": "",
       "aggOverflow": false,
       "aggSchema": [],
       "aggSeriesLimitReached": false,
       "aggType": "",
       "arguments": {},
       "columnCustomDisplayInfos": {},
       "data": [
        [
         209
        ]
       ],
       "datasetInfos": [],
       "dbfsResultPath": null,
       "isJsonSchema": true,
       "metadata": {},
       "overflow": false,
       "plotOptions": {
        "customPlotOptions": {},
        "displayType": "table",
        "pivotAggregation": null,
        "pivotColumns": null,
        "xColumns": null,
        "yColumns": null
       },
       "removedWidgets": [],
       "schema": [
        {
         "metadata": "{}",
         "name": "total_cnae2",
         "type": "\"long\""
        }
       ],
       "type": "table"
      }
     },
     "output_type": "display_data"
    }
   ],
   "source": [
    "%sql\n",
    "SELECT COUNT(DISTINCT cnae) AS total_cnae2\n",
    "FROM rais2022_silver;"
   ]
  },
  {
   "cell_type": "markdown",
   "metadata": {
    "application/vnd.databricks.v1+cell": {
     "cellMetadata": {
      "byteLimit": 2048000,
      "rowLimit": 10000
     },
     "inputWidgets": {},
     "nuid": "0acfda36-3959-4d43-8b80-423d884ff754",
     "showTitle": false,
     "title": ""
    }
   },
   "source": [
    "A série de cnaes foi filtrada e, com dados mais resumidos, acrescentei o dicionário, com a atividade ligada a cada classe que sobrou. Nas séries online do Ministério do Trabalho fiz o download em formato CSV dos nomes das atividades relacionadas a cada classe. Criei uma nova tabela no Databricks Comunity Edition com essas informações."
   ]
  },
  {
   "cell_type": "code",
   "execution_count": 0,
   "metadata": {
    "application/vnd.databricks.v1+cell": {
     "cellMetadata": {
      "byteLimit": 2048000,
      "implicitDf": true,
      "rowLimit": 10000
     },
     "inputWidgets": {},
     "nuid": "4138c4d3-b308-4f24-8ce5-e6387d390b5d",
     "showTitle": false,
     "title": ""
    }
   },
   "outputs": [
    {
     "output_type": "display_data",
     "data": {
      "text/html": [
       "<style scoped>\n",
       "  .table-result-container {\n",
       "    max-height: 300px;\n",
       "    overflow: auto;\n",
       "  }\n",
       "  table, th, td {\n",
       "    border: 1px solid black;\n",
       "    border-collapse: collapse;\n",
       "  }\n",
       "  th, td {\n",
       "    padding: 5px;\n",
       "  }\n",
       "  th {\n",
       "    text-align: left;\n",
       "  }\n",
       "</style><div class='table-result-container'><table class='table-result'><thead style='background-color: white'><tr><th>Classe</th><th>Nome</th></tr></thead><tbody><tr><td>69206</td><td>Atividades de Contabilidade, Consultoria e Auditoria Contabil e Tributaria</td></tr><tr><td>69125</td><td>Cartorios</td></tr><tr><td>69117</td><td>Atividades Juridicas, Exceto Cartorios</td></tr><tr><td>68226</td><td>Gestao e Administracao da Propriedade Imobiliaria</td></tr><tr><td>68218</td><td>Intermediacao na Compra, Venda e Aluguel de Imoveis</td></tr><tr><td>68102</td><td>Atividades Imobiliarias de Imoveis Proprios</td></tr><tr><td>66304</td><td>Atividades de Administracao de Fundos por Contrato ou Comissao</td></tr><tr><td>66291</td><td>Atividades Auxiliares dos Seguros, da Previdencia Complementar e dos Planos de Saude nao Especificadas Anteriormente</td></tr><tr><td>66223</td><td>Corretores e Agentes de Seguros, de Planos de Previdencia Complementar e de Saude</td></tr><tr><td>66215</td><td>Avaliacao de Riscos e Perdas</td></tr><tr><td>66193</td><td>Atividades Auxiliares dos Servicos Financeiros nao Especificadas Anteriormente</td></tr><tr><td>66134</td><td>Administracao de Cartoes de Credito</td></tr><tr><td>66126</td><td>Atividades de Intermediarios em Transacoes de Titulos, Valores Mobiliarios e Mercadorias</td></tr><tr><td>66118</td><td>Administracao de Bolsas e Mercados de Balcao Organizados</td></tr><tr><td>65502</td><td>Planos de Saude</td></tr><tr><td>65421</td><td>Previdencia Complementar Aberta</td></tr><tr><td>65413</td><td>Previdencia Complementar Fechada</td></tr><tr><td>65308</td><td>Resseguros</td></tr><tr><td>65201</td><td>Seguros-Saude</td></tr><tr><td>65120</td><td>Seguros Nao-Vida</td></tr><tr><td>65111</td><td>Seguros de Vida</td></tr><tr><td>64999</td><td>Outras Atividades de Servicos Financeiros nao Especificadas Anteriormente</td></tr><tr><td>64930</td><td>Administracao de Consorcios para Aquisicao de Bens e Direitos</td></tr><tr><td>64921</td><td>Securitizacao de Creditos</td></tr><tr><td>64913</td><td>Sociedades de Fomento Mercantil - Factoring</td></tr><tr><td>64701</td><td>Fundos de Investimento</td></tr><tr><td>64638</td><td>Outras Sociedades de Participacao, Exceto Holdings</td></tr><tr><td>64620</td><td>Holdings de Instituicoes Nao-Financeiras</td></tr><tr><td>64611</td><td>Holdings de Instituicoes Financeiras</td></tr><tr><td>64506</td><td>Sociedades de Capitalizacao</td></tr><tr><td>64409</td><td>Arrendamento Mercantil</td></tr><tr><td>64387</td><td>Bancos de Cambio e Outras Instituicoes de Intermediacao Nao-Monetaria</td></tr><tr><td>64379</td><td>Sociedades de Credito ao Microempreendedor</td></tr><tr><td>64361</td><td>Sociedades de Credito, Financiamento e Investimento - Financeiras</td></tr><tr><td>64352</td><td>Credito Imobiliario</td></tr><tr><td>64344</td><td>Agencias de Fomento</td></tr><tr><td>64336</td><td>Bancos de Desenvolvimento</td></tr><tr><td>64328</td><td>Bancos de Investimento</td></tr><tr><td>64310</td><td>Bancos Multiplos, sem Carteira Comercial</td></tr><tr><td>64247</td><td>Credito Cooperativo</td></tr><tr><td>64239</td><td>Caixas Economicas</td></tr><tr><td>64221</td><td>Bancos Multiplos, com Carteira Comercial</td></tr><tr><td>64212</td><td>Bancos Comerciais</td></tr><tr><td>64107</td><td>Banco Central</td></tr><tr><td>63992</td><td>Outras Atividades de Prestacao de Servicos de Informacao nao Especificadas Anteriormente</td></tr><tr><td>63917</td><td>Agencias de Noticias</td></tr><tr><td>63194</td><td>Portais, Provedores de Conteudo e Outros Servicos de Informacao na Internet</td></tr><tr><td>63119</td><td>Tratamento de Dados, Provedores de Servicos de Aplicacao e Servicos de Hospedagem na Internet</td></tr><tr><td>62091</td><td>Suporte Tecnico, Manutencao e Outros Servicos em Tecnologia da Informacao</td></tr><tr><td>62040</td><td>Consultoria em Tecnologia da Informacao</td></tr><tr><td>62031</td><td>Desenvolvimento e Licenciamento de Programas de Computador Nao-Customizaveis</td></tr><tr><td>62023</td><td>Desenvolvimento e Licenciamento de Programas de Computador Customizaveis</td></tr><tr><td>62015</td><td>Desenvolvimento de Programas de Computador Sob Encomenda</td></tr><tr><td>61906</td><td>Outras Atividades de Telecomunicacoes</td></tr><tr><td>61434</td><td>Operadoras de Televisao por Assinatura por Satelite</td></tr><tr><td>61426</td><td>Operadoras de Televisao por Assinatura por Microondas</td></tr><tr><td>61418</td><td>Operadoras de Televisao por Assinatura por Cabo</td></tr><tr><td>61302</td><td>Telecomunicacoes por Satelite</td></tr><tr><td>61205</td><td>Telecomunicacoes sem Fio</td></tr><tr><td>61108</td><td>Telecomunicacoes por Fio</td></tr><tr><td>60225</td><td>Programadoras e Atividades Relacionadas a Televisao por Assinatura</td></tr><tr><td>60217</td><td>Atividades de Televisao Aberta</td></tr><tr><td>60101</td><td>Atividades de Radio</td></tr><tr><td>59201</td><td>Atividades de Gravacao de Som e de Edicao de Musica</td></tr><tr><td>59146</td><td>Atividades de Exibicao Cinematografica</td></tr><tr><td>59138</td><td>Distribuicao Cinematografica, de Video e de Programas de Televisao</td></tr><tr><td>59120</td><td>Atividades de Pos-Producao Cinematografica, de Videos e de Programas de Televisao</td></tr><tr><td>59111</td><td>Atividades de Producao Cinematografica, de Videos e de Programas de Televisao</td></tr><tr><td>58298</td><td>Edicao Integrada a Impressao de Cadastros, Listas e de Outros Produtos Graficos</td></tr><tr><td>58239</td><td>Edicao Integrada a Impressao de Revistas</td></tr><tr><td>58221</td><td>Edicao Integrada a Impressao de Jornais</td></tr><tr><td>58212</td><td>Edicao Integrada a Impressao de Livros</td></tr><tr><td>58191</td><td>Edicao de Cadastros, Listas e de Outros Produtos Graficos</td></tr><tr><td>58131</td><td>Edicao de Revistas</td></tr><tr><td>58123</td><td>Edicao de Jornais</td></tr><tr><td>58115</td><td>Edicao de Livros</td></tr><tr><td>56201</td><td>Servicos de Catering, Bufe e Outros Servicos de Comida Preparada</td></tr><tr><td>56121</td><td>Servicos Ambulantes de Alimentacao</td></tr><tr><td>56112</td><td>Restaurantes e Outros Estabelecimentos de Servicos de Alimentacao e Bebidas</td></tr><tr><td>55906</td><td>Outros Tipos de Alojamento nao Especificados Anteriormente</td></tr><tr><td>55108</td><td>Hoteis e Similares</td></tr><tr><td>53202</td><td>Atividades de Malote e de Entrega</td></tr><tr><td>53105</td><td>Atividades de Correio</td></tr><tr><td>52508</td><td>Atividades Relacionadas a Organizacao do Transporte de Carga</td></tr><tr><td>52401</td><td>Atividades Auxiliares dos Transportes Aereos</td></tr><tr><td>52397</td><td>Atividades Auxiliares dos Transportes Aquaviarios nao Especificadas Anteriormente</td></tr><tr><td>52320</td><td>Atividades de Agenciamento Maritimo</td></tr><tr><td>52311</td><td>Gestao de Portos e Terminais</td></tr><tr><td>52290</td><td>Atividades Auxiliares dos Transportes Terrestres nao Especificadas Anteriormente</td></tr><tr><td>52231</td><td>Estacionamento de Veiculos</td></tr><tr><td>52222</td><td>Terminais Rodoviarios e Ferroviarios</td></tr><tr><td>52214</td><td>Concessionarias de Rodovias, Pontes, Tuneis e Servicos Relacionados</td></tr><tr><td>52125</td><td>Carga e Descarga</td></tr><tr><td>52117</td><td>Armazenamento</td></tr><tr><td>51307</td><td>Transporte Espacial</td></tr><tr><td>51200</td><td>Transporte Aereo de Carga</td></tr><tr><td>51129</td><td>Transporte Aereo de Passageiros Nao-Regular</td></tr><tr><td>51111</td><td>Transporte Aereo de Passageiros Regular</td></tr><tr><td>50998</td><td>Transportes Aquaviarios nao Especificados Anteriormente</td></tr><tr><td>50912</td><td>Transporte por Navegacao de Travessia</td></tr><tr><td>50301</td><td>Navegacao de Apoio</td></tr><tr><td>50220</td><td>Transporte por Navegacao Interior de Passageiros em Linhas Regulares</td></tr><tr><td>50211</td><td>Transporte por Navegacao Interior de Carga</td></tr><tr><td>50122</td><td>Transporte Maritimo de Longo Curso</td></tr><tr><td>50114</td><td>Transporte Maritimo de Cabotagem</td></tr><tr><td>49507</td><td>Trens Turisticos, Telefericos e Similares</td></tr><tr><td>49400</td><td>Transporte Dutoviario</td></tr><tr><td>49302</td><td>Transporte Rodoviario de Carga</td></tr><tr><td>49299</td><td>Transporte Rodoviario Coletivo de Passageiros, Sob Regime de Fretamento, e Outros Transportes Rodoviarios nao Especificados Anteriormente</td></tr><tr><td>49248</td><td>Transporte Escolar</td></tr><tr><td>49230</td><td>Transporte Rodoviario de Taxi</td></tr><tr><td>49221</td><td>Transporte Rodoviario Coletivo de Passageiros, com Itinerario Fixo, Intermunicipal, Interestadual e Internacional</td></tr><tr><td>49213</td><td>Transporte Rodoviario Coletivo de Passageiros, com Itinerario Fixo, Municipal e em Regiao Metropolitana</td></tr><tr><td>49124</td><td>Transporte Metroferroviario de Passageiros</td></tr><tr><td>49116</td><td>Transporte Ferroviario de Carga</td></tr><tr><td>47890</td><td>Comercio Varejista de Outros Produtos Novos nao Especificados Anteriormente</td></tr><tr><td>47857</td><td>Comercio Varejista de Artigos Usados</td></tr><tr><td>47849</td><td>Comercio Varejista de Gas LiquEfeito de Petroleo (Glp)</td></tr><tr><td>47831</td><td>Comercio Varejista de Joias e Relogios</td></tr><tr><td>47822</td><td>Comercio Varejista de Calcados e Artigos de Viagem</td></tr><tr><td>47814</td><td>Comercio Varejista de Artigos do Vestuario e Acessorios</td></tr><tr><td>47741</td><td>Comercio Varejista de Artigos de optica</td></tr><tr><td>47733</td><td>Comercio Varejista de Artigos Medicos e Ortopedicos</td></tr><tr><td>47725</td><td>Comercio Varejista de Cosmeticos, Produtos de Perfumaria e de Higiene Pessoal</td></tr><tr><td>47717</td><td>Comercio Varejista de Produtos Farmaceuticos para Uso Humano e Veterinario</td></tr><tr><td>47636</td><td>Comercio Varejista de Artigos Recreativos e Esportivos</td></tr><tr><td>47628</td><td>Comercio Varejista de Discos, Cds, Dvds e Fitas</td></tr><tr><td>47610</td><td>Comercio Varejista de Livros, Jornais, Revistas e Papelaria</td></tr><tr><td>47598</td><td>Comercio Varejista de Artigos de Uso Domestico nao Especificados Anteriormente</td></tr><tr><td>47571</td><td>Comercio Varejista Especializado de Pecas e Acessorios para Aparelhos Eletroeletronicos para Uso Domestico, Exceto Informatica e Comunicacao</td></tr><tr><td>47563</td><td>Comercio Varejista Especializado de Instrumentos Musicais e Acessorios</td></tr><tr><td>47555</td><td>Comercio Varejista Especializado de Tecidos e Artigos de Cama, Mesa e Banho</td></tr><tr><td>47547</td><td>Comercio Varejista Especializado de Moveis, Colchoaria e Artigos de Iluminacao</td></tr><tr><td>47539</td><td>Comercio Varejista Especializado de Eletrodomesticos e Equipamentos de audio e Video</td></tr><tr><td>47521</td><td>Comercio Varejista Especializado de Equipamentos de Telefonia e Comunicacao</td></tr><tr><td>47512</td><td>Comercio Varejista Especializado de Equipamentos e Suprimentos de Informatica</td></tr><tr><td>47440</td><td>Comercio Varejista de Ferragens, Madeira e Materiais de Construcao</td></tr><tr><td>47431</td><td>Comercio Varejista de Vidros</td></tr><tr><td>47423</td><td>Comercio Varejista de Material Eletrico</td></tr><tr><td>47415</td><td>Comercio Varejista de Tintas e Materiais para Pintura</td></tr><tr><td>47326</td><td>Comercio Varejista de Lubrificantes</td></tr><tr><td>47318</td><td>Comercio Varejista de Combustiveis para Veiculos Automotores</td></tr><tr><td>47296</td><td>Comercio Varejista de Produtos Alimenticios em Geral ou Especializado em Produtos Alimenticios nao Especificados Anteriormente</td></tr><tr><td>47245</td><td>Comercio Varejista de Hortifrutigranjeiros</td></tr><tr><td>47237</td><td>Comercio Varejista de Bebidas</td></tr><tr><td>47229</td><td>Comercio Varejista de Carnes e Pescados - Acougues e Peixarias</td></tr><tr><td>47211</td><td>Comercio Varejista de Produtos de Padaria, Laticinio, Doces, Balas e Semelhantes</td></tr><tr><td>47130</td><td>Comercio Varejista de Mercadorias em Geral, sem Predominancia de Produtos Alimenticios</td></tr><tr><td>47121</td><td>Comercio Varejista de Mercadorias em Geral, com Predominancia de Produtos Alimenticios - Minimercados, Mercearias e Armazens</td></tr><tr><td>47113</td><td>Comercio Varejista de Mercadorias em Geral, com Predominancia de Produtos Alimenticios - Hipermercados e Supermercados</td></tr><tr><td>46931</td><td>Comercio Atacadista de Mercadorias em Geral, sem Predominancia de Alimentos ou de Insumos Agropecuarios</td></tr><tr><td>46923</td><td>Comercio Atacadista de Mercadorias em Geral, com Predominancia de Insumos Agropecuarios</td></tr><tr><td>46915</td><td>Comercio Atacadista de Mercadorias em Geral, com Predominancia de Produtos Alimenticios</td></tr><tr><td>46893</td><td>Comercio Atacadista Especializado de Outros Produtos Intermediarios nao Especificados Anteriormente</td></tr><tr><td>46877</td><td>Comercio Atacadista de Residuos e Sucatas</td></tr><tr><td>46869</td><td>Comercio Atacadista de Papel e Papelao em Bruto e de Embalagens</td></tr><tr><td>46851</td><td>Comercio Atacadista de Produtos Siderurgicos e Metalurgicos, Exceto para Construcao</td></tr><tr><td>46842</td><td>Comercio Atacadista de Produtos Quimicos e Petroquimicos, Exceto Agroquimicos</td></tr><tr><td>46834</td><td>Comercio Atacadista de Defensivos Agricolas, Adubos, Fertilizantes e Corretivos do Solo</td></tr><tr><td>46826</td><td>Comercio Atacadista de Gas LiquEfeito de Petroleo (Glp)</td></tr><tr><td>46818</td><td>Comercio Atacadista de Combustiveis Solidos, Liquidos e Gasosos, Exceto Gas Natural e Glp</td></tr><tr><td>46796</td><td>Comercio Atacadista Especializado de Materiais de Construcao nao Especificados Anteriormente e de Materiais de Construcao em Geral</td></tr><tr><td>46745</td><td>Comercio Atacadista de Cimento</td></tr><tr><td>46737</td><td>Comercio Atacadista de Material Eletrico</td></tr><tr><td>46729</td><td>Comercio Atacadista de Ferragens e Ferramentas</td></tr><tr><td>46711</td><td>Comercio Atacadista de Madeira e Produtos Derivados</td></tr><tr><td>46699</td><td>Comercio Atacadista de Maquinas, Aparelhos e Equipamentos nao Especificados Anteriormente</td></tr><tr><td>46656</td><td>Comercio Atacadista de Maquinas e Equipamentos para Uso Comercial</td></tr><tr><td>46648</td><td>Comercio Atacadista de Maquinas, Aparelhos e Equipamentos para Uso Odonto-Medico-Hospitalar</td></tr><tr><td>46630</td><td>Comercio Atacadista de Maquinas e Equipamentos para Uso Industrial</td></tr><tr><td>46621</td><td>Comercio Atacadista de Maquinas, Equipamentos para Terraplenagem, Mineracao e Construcao</td></tr><tr><td>46613</td><td>Comercio Atacadista de Maquinas, Aparelhos e Equipamentos para Uso Agropecuario</td></tr><tr><td>46524</td><td>Comercio Atacadista de Componentes Eletronicos e Equipamentos de Telefonia e Comunicacao</td></tr><tr><td>46516</td><td>Comercio Atacadista de Computadores, Perifericos e Suprimentos de Informatica</td></tr><tr><td>46494</td><td>Comercio Atacadista de Equipamentos e Artigos de Uso Pessoal e Domestico nao Especificados Anteriormente</td></tr><tr><td>46478</td><td>Comercio Atacadista de Artigos de Escritorio e de Papelaria</td></tr><tr><td>46460</td><td>Comercio Atacadista de Cosmeticos, Produtos de Perfumaria e de Higiene Pessoal</td></tr><tr><td>46451</td><td>Comercio Atacadista de Instrumentos e Materiais para Uso Medico, Cirurgico, Ortopedico e Odontologico</td></tr><tr><td>46443</td><td>Comercio Atacadista de Produtos Farmaceuticos para Uso Humano e Veterinario</td></tr><tr><td>46435</td><td>Comercio Atacadista de Calcados e Artigos de Viagem</td></tr><tr><td>46427</td><td>Comercio Atacadista de Artigos do Vestuario e Acessorios</td></tr><tr><td>46419</td><td>Comercio Atacadista de Tecidos, Artefatos de Tecidos e de Armarinho</td></tr><tr><td>46397</td><td>Comercio Atacadista de Produtos Alimenticios em Geral</td></tr><tr><td>46371</td><td>Comercio Atacadista Especializado em Produtos Alimenticios nao Especificados Anteriormente</td></tr><tr><td>46362</td><td>Comercio Atacadista de Produtos do Fumo</td></tr><tr><td>46354</td><td>Comercio Atacadista de Bebidas</td></tr><tr><td>46346</td><td>Comercio Atacadista de Carnes, Produtos da Carne e Pescado</td></tr><tr><td>46338</td><td>Comercio Atacadista de Hortifrutigranjeiros</td></tr><tr><td>46320</td><td>Comercio Atacadista de Cereais e Leguminosas Beneficiados, Farinhas, Amidos e Feculas</td></tr><tr><td>46311</td><td>Comercio Atacadista de Leite e Laticinios</td></tr><tr><td>46231</td><td>Comercio Atacadista de Animais Vivos, Alimentos para Animais e Materias-Primas Agricolas, Exceto Cafe e Soja</td></tr><tr><td>46222</td><td>Comercio Atacadista de Soja</td></tr><tr><td>46214</td><td>Comercio Atacadista de Cafe em Grao</td></tr><tr><td>46192</td><td>Representantes Comerciais e Agentes do Comercio de Mercadorias em Geral nao Especializado</td></tr><tr><td>46184</td><td>Representantes Comerciais e Agentes do Comercio Especializado em Produtos nao Especificados Anteriormente</td></tr><tr><td>46176</td><td>Representantes Comerciais e Agentes do Comercio de Produtos Alimenticios, Bebidas e Fumo</td></tr><tr><td>46168</td><td>Representantes Comerciais e Agentes do Comercio de Texteis, Vestuario, Calcados e Artigos de Viagem</td></tr><tr><td>46150</td><td>Representantes Comerciais e Agentes do Comercio de Eletrodomesticos, Moveis e Artigos de Uso Domestico</td></tr><tr><td>46141</td><td>Representantes Comerciais e Agentes do Comercio de Maquinas, Equipamentos, Embarcacoes e Aeronaves</td></tr><tr><td>46133</td><td>Representantes Comerciais e Agentes do Comercio de Madeira, Material de Construcao e Ferragens</td></tr><tr><td>46125</td><td>Representantes Comerciais e Agentes do Comercio de Combustiveis, Minerais, Produtos Siderurgicos e Quimicos</td></tr><tr><td>46117</td><td>Representantes Comerciais e Agentes do Comercio de Materias-Primas Agricolas e Animais Vivos</td></tr><tr><td>45439</td><td>Manutencao e Reparacao de Motocicletas</td></tr><tr><td>45421</td><td>Representantes Comerciais e Agentes do Comercio de Motocicletas, Pecas e Acessorios</td></tr><tr><td>45412</td><td>Comercio por Atacado e a Varejo de Motocicletas, Pecas e Acessorios</td></tr><tr><td>45307</td><td>Comercio de Pecas e Acessorios para Veiculos Automotores</td></tr><tr><td>45200</td><td>Manutencao e Reparacao de Veiculos Automotores</td></tr><tr><td>45129</td><td>Representantes Comerciais e Agentes do Comercio de Veiculos Automotores</td></tr><tr><td>45111</td><td>Comercio a Varejo e por Atacado de Veiculos Automotores</td></tr></tbody></table></div>"
      ]
     },
     "metadata": {
      "application/vnd.databricks.v1+output": {
       "addedWidgets": {},
       "aggData": [],
       "aggError": "",
       "aggOverflow": false,
       "aggSchema": [],
       "aggSeriesLimitReached": false,
       "aggType": "",
       "arguments": {},
       "columnCustomDisplayInfos": {},
       "data": [
        [
         69206,
         "Atividades de Contabilidade, Consultoria e Auditoria Contabil e Tributaria"
        ],
        [
         69125,
         "Cartorios"
        ],
        [
         69117,
         "Atividades Juridicas, Exceto Cartorios"
        ],
        [
         68226,
         "Gestao e Administracao da Propriedade Imobiliaria"
        ],
        [
         68218,
         "Intermediacao na Compra, Venda e Aluguel de Imoveis"
        ],
        [
         68102,
         "Atividades Imobiliarias de Imoveis Proprios"
        ],
        [
         66304,
         "Atividades de Administracao de Fundos por Contrato ou Comissao"
        ],
        [
         66291,
         "Atividades Auxiliares dos Seguros, da Previdencia Complementar e dos Planos de Saude nao Especificadas Anteriormente"
        ],
        [
         66223,
         "Corretores e Agentes de Seguros, de Planos de Previdencia Complementar e de Saude"
        ],
        [
         66215,
         "Avaliacao de Riscos e Perdas"
        ],
        [
         66193,
         "Atividades Auxiliares dos Servicos Financeiros nao Especificadas Anteriormente"
        ],
        [
         66134,
         "Administracao de Cartoes de Credito"
        ],
        [
         66126,
         "Atividades de Intermediarios em Transacoes de Titulos, Valores Mobiliarios e Mercadorias"
        ],
        [
         66118,
         "Administracao de Bolsas e Mercados de Balcao Organizados"
        ],
        [
         65502,
         "Planos de Saude"
        ],
        [
         65421,
         "Previdencia Complementar Aberta"
        ],
        [
         65413,
         "Previdencia Complementar Fechada"
        ],
        [
         65308,
         "Resseguros"
        ],
        [
         65201,
         "Seguros-Saude"
        ],
        [
         65120,
         "Seguros Nao-Vida"
        ],
        [
         65111,
         "Seguros de Vida"
        ],
        [
         64999,
         "Outras Atividades de Servicos Financeiros nao Especificadas Anteriormente"
        ],
        [
         64930,
         "Administracao de Consorcios para Aquisicao de Bens e Direitos"
        ],
        [
         64921,
         "Securitizacao de Creditos"
        ],
        [
         64913,
         "Sociedades de Fomento Mercantil - Factoring"
        ],
        [
         64701,
         "Fundos de Investimento"
        ],
        [
         64638,
         "Outras Sociedades de Participacao, Exceto Holdings"
        ],
        [
         64620,
         "Holdings de Instituicoes Nao-Financeiras"
        ],
        [
         64611,
         "Holdings de Instituicoes Financeiras"
        ],
        [
         64506,
         "Sociedades de Capitalizacao"
        ],
        [
         64409,
         "Arrendamento Mercantil"
        ],
        [
         64387,
         "Bancos de Cambio e Outras Instituicoes de Intermediacao Nao-Monetaria"
        ],
        [
         64379,
         "Sociedades de Credito ao Microempreendedor"
        ],
        [
         64361,
         "Sociedades de Credito, Financiamento e Investimento - Financeiras"
        ],
        [
         64352,
         "Credito Imobiliario"
        ],
        [
         64344,
         "Agencias de Fomento"
        ],
        [
         64336,
         "Bancos de Desenvolvimento"
        ],
        [
         64328,
         "Bancos de Investimento"
        ],
        [
         64310,
         "Bancos Multiplos, sem Carteira Comercial"
        ],
        [
         64247,
         "Credito Cooperativo"
        ],
        [
         64239,
         "Caixas Economicas"
        ],
        [
         64221,
         "Bancos Multiplos, com Carteira Comercial"
        ],
        [
         64212,
         "Bancos Comerciais"
        ],
        [
         64107,
         "Banco Central"
        ],
        [
         63992,
         "Outras Atividades de Prestacao de Servicos de Informacao nao Especificadas Anteriormente"
        ],
        [
         63917,
         "Agencias de Noticias"
        ],
        [
         63194,
         "Portais, Provedores de Conteudo e Outros Servicos de Informacao na Internet"
        ],
        [
         63119,
         "Tratamento de Dados, Provedores de Servicos de Aplicacao e Servicos de Hospedagem na Internet"
        ],
        [
         62091,
         "Suporte Tecnico, Manutencao e Outros Servicos em Tecnologia da Informacao"
        ],
        [
         62040,
         "Consultoria em Tecnologia da Informacao"
        ],
        [
         62031,
         "Desenvolvimento e Licenciamento de Programas de Computador Nao-Customizaveis"
        ],
        [
         62023,
         "Desenvolvimento e Licenciamento de Programas de Computador Customizaveis"
        ],
        [
         62015,
         "Desenvolvimento de Programas de Computador Sob Encomenda"
        ],
        [
         61906,
         "Outras Atividades de Telecomunicacoes"
        ],
        [
         61434,
         "Operadoras de Televisao por Assinatura por Satelite"
        ],
        [
         61426,
         "Operadoras de Televisao por Assinatura por Microondas"
        ],
        [
         61418,
         "Operadoras de Televisao por Assinatura por Cabo"
        ],
        [
         61302,
         "Telecomunicacoes por Satelite"
        ],
        [
         61205,
         "Telecomunicacoes sem Fio"
        ],
        [
         61108,
         "Telecomunicacoes por Fio"
        ],
        [
         60225,
         "Programadoras e Atividades Relacionadas a Televisao por Assinatura"
        ],
        [
         60217,
         "Atividades de Televisao Aberta"
        ],
        [
         60101,
         "Atividades de Radio"
        ],
        [
         59201,
         "Atividades de Gravacao de Som e de Edicao de Musica"
        ],
        [
         59146,
         "Atividades de Exibicao Cinematografica"
        ],
        [
         59138,
         "Distribuicao Cinematografica, de Video e de Programas de Televisao"
        ],
        [
         59120,
         "Atividades de Pos-Producao Cinematografica, de Videos e de Programas de Televisao"
        ],
        [
         59111,
         "Atividades de Producao Cinematografica, de Videos e de Programas de Televisao"
        ],
        [
         58298,
         "Edicao Integrada a Impressao de Cadastros, Listas e de Outros Produtos Graficos"
        ],
        [
         58239,
         "Edicao Integrada a Impressao de Revistas"
        ],
        [
         58221,
         "Edicao Integrada a Impressao de Jornais"
        ],
        [
         58212,
         "Edicao Integrada a Impressao de Livros"
        ],
        [
         58191,
         "Edicao de Cadastros, Listas e de Outros Produtos Graficos"
        ],
        [
         58131,
         "Edicao de Revistas"
        ],
        [
         58123,
         "Edicao de Jornais"
        ],
        [
         58115,
         "Edicao de Livros"
        ],
        [
         56201,
         "Servicos de Catering, Bufe e Outros Servicos de Comida Preparada"
        ],
        [
         56121,
         "Servicos Ambulantes de Alimentacao"
        ],
        [
         56112,
         "Restaurantes e Outros Estabelecimentos de Servicos de Alimentacao e Bebidas"
        ],
        [
         55906,
         "Outros Tipos de Alojamento nao Especificados Anteriormente"
        ],
        [
         55108,
         "Hoteis e Similares"
        ],
        [
         53202,
         "Atividades de Malote e de Entrega"
        ],
        [
         53105,
         "Atividades de Correio"
        ],
        [
         52508,
         "Atividades Relacionadas a Organizacao do Transporte de Carga"
        ],
        [
         52401,
         "Atividades Auxiliares dos Transportes Aereos"
        ],
        [
         52397,
         "Atividades Auxiliares dos Transportes Aquaviarios nao Especificadas Anteriormente"
        ],
        [
         52320,
         "Atividades de Agenciamento Maritimo"
        ],
        [
         52311,
         "Gestao de Portos e Terminais"
        ],
        [
         52290,
         "Atividades Auxiliares dos Transportes Terrestres nao Especificadas Anteriormente"
        ],
        [
         52231,
         "Estacionamento de Veiculos"
        ],
        [
         52222,
         "Terminais Rodoviarios e Ferroviarios"
        ],
        [
         52214,
         "Concessionarias de Rodovias, Pontes, Tuneis e Servicos Relacionados"
        ],
        [
         52125,
         "Carga e Descarga"
        ],
        [
         52117,
         "Armazenamento"
        ],
        [
         51307,
         "Transporte Espacial"
        ],
        [
         51200,
         "Transporte Aereo de Carga"
        ],
        [
         51129,
         "Transporte Aereo de Passageiros Nao-Regular"
        ],
        [
         51111,
         "Transporte Aereo de Passageiros Regular"
        ],
        [
         50998,
         "Transportes Aquaviarios nao Especificados Anteriormente"
        ],
        [
         50912,
         "Transporte por Navegacao de Travessia"
        ],
        [
         50301,
         "Navegacao de Apoio"
        ],
        [
         50220,
         "Transporte por Navegacao Interior de Passageiros em Linhas Regulares"
        ],
        [
         50211,
         "Transporte por Navegacao Interior de Carga"
        ],
        [
         50122,
         "Transporte Maritimo de Longo Curso"
        ],
        [
         50114,
         "Transporte Maritimo de Cabotagem"
        ],
        [
         49507,
         "Trens Turisticos, Telefericos e Similares"
        ],
        [
         49400,
         "Transporte Dutoviario"
        ],
        [
         49302,
         "Transporte Rodoviario de Carga"
        ],
        [
         49299,
         "Transporte Rodoviario Coletivo de Passageiros, Sob Regime de Fretamento, e Outros Transportes Rodoviarios nao Especificados Anteriormente"
        ],
        [
         49248,
         "Transporte Escolar"
        ],
        [
         49230,
         "Transporte Rodoviario de Taxi"
        ],
        [
         49221,
         "Transporte Rodoviario Coletivo de Passageiros, com Itinerario Fixo, Intermunicipal, Interestadual e Internacional"
        ],
        [
         49213,
         "Transporte Rodoviario Coletivo de Passageiros, com Itinerario Fixo, Municipal e em Regiao Metropolitana"
        ],
        [
         49124,
         "Transporte Metroferroviario de Passageiros"
        ],
        [
         49116,
         "Transporte Ferroviario de Carga"
        ],
        [
         47890,
         "Comercio Varejista de Outros Produtos Novos nao Especificados Anteriormente"
        ],
        [
         47857,
         "Comercio Varejista de Artigos Usados"
        ],
        [
         47849,
         "Comercio Varejista de Gas LiquEfeito de Petroleo (Glp)"
        ],
        [
         47831,
         "Comercio Varejista de Joias e Relogios"
        ],
        [
         47822,
         "Comercio Varejista de Calcados e Artigos de Viagem"
        ],
        [
         47814,
         "Comercio Varejista de Artigos do Vestuario e Acessorios"
        ],
        [
         47741,
         "Comercio Varejista de Artigos de optica"
        ],
        [
         47733,
         "Comercio Varejista de Artigos Medicos e Ortopedicos"
        ],
        [
         47725,
         "Comercio Varejista de Cosmeticos, Produtos de Perfumaria e de Higiene Pessoal"
        ],
        [
         47717,
         "Comercio Varejista de Produtos Farmaceuticos para Uso Humano e Veterinario"
        ],
        [
         47636,
         "Comercio Varejista de Artigos Recreativos e Esportivos"
        ],
        [
         47628,
         "Comercio Varejista de Discos, Cds, Dvds e Fitas"
        ],
        [
         47610,
         "Comercio Varejista de Livros, Jornais, Revistas e Papelaria"
        ],
        [
         47598,
         "Comercio Varejista de Artigos de Uso Domestico nao Especificados Anteriormente"
        ],
        [
         47571,
         "Comercio Varejista Especializado de Pecas e Acessorios para Aparelhos Eletroeletronicos para Uso Domestico, Exceto Informatica e Comunicacao"
        ],
        [
         47563,
         "Comercio Varejista Especializado de Instrumentos Musicais e Acessorios"
        ],
        [
         47555,
         "Comercio Varejista Especializado de Tecidos e Artigos de Cama, Mesa e Banho"
        ],
        [
         47547,
         "Comercio Varejista Especializado de Moveis, Colchoaria e Artigos de Iluminacao"
        ],
        [
         47539,
         "Comercio Varejista Especializado de Eletrodomesticos e Equipamentos de audio e Video"
        ],
        [
         47521,
         "Comercio Varejista Especializado de Equipamentos de Telefonia e Comunicacao"
        ],
        [
         47512,
         "Comercio Varejista Especializado de Equipamentos e Suprimentos de Informatica"
        ],
        [
         47440,
         "Comercio Varejista de Ferragens, Madeira e Materiais de Construcao"
        ],
        [
         47431,
         "Comercio Varejista de Vidros"
        ],
        [
         47423,
         "Comercio Varejista de Material Eletrico"
        ],
        [
         47415,
         "Comercio Varejista de Tintas e Materiais para Pintura"
        ],
        [
         47326,
         "Comercio Varejista de Lubrificantes"
        ],
        [
         47318,
         "Comercio Varejista de Combustiveis para Veiculos Automotores"
        ],
        [
         47296,
         "Comercio Varejista de Produtos Alimenticios em Geral ou Especializado em Produtos Alimenticios nao Especificados Anteriormente"
        ],
        [
         47245,
         "Comercio Varejista de Hortifrutigranjeiros"
        ],
        [
         47237,
         "Comercio Varejista de Bebidas"
        ],
        [
         47229,
         "Comercio Varejista de Carnes e Pescados - Acougues e Peixarias"
        ],
        [
         47211,
         "Comercio Varejista de Produtos de Padaria, Laticinio, Doces, Balas e Semelhantes"
        ],
        [
         47130,
         "Comercio Varejista de Mercadorias em Geral, sem Predominancia de Produtos Alimenticios"
        ],
        [
         47121,
         "Comercio Varejista de Mercadorias em Geral, com Predominancia de Produtos Alimenticios - Minimercados, Mercearias e Armazens"
        ],
        [
         47113,
         "Comercio Varejista de Mercadorias em Geral, com Predominancia de Produtos Alimenticios - Hipermercados e Supermercados"
        ],
        [
         46931,
         "Comercio Atacadista de Mercadorias em Geral, sem Predominancia de Alimentos ou de Insumos Agropecuarios"
        ],
        [
         46923,
         "Comercio Atacadista de Mercadorias em Geral, com Predominancia de Insumos Agropecuarios"
        ],
        [
         46915,
         "Comercio Atacadista de Mercadorias em Geral, com Predominancia de Produtos Alimenticios"
        ],
        [
         46893,
         "Comercio Atacadista Especializado de Outros Produtos Intermediarios nao Especificados Anteriormente"
        ],
        [
         46877,
         "Comercio Atacadista de Residuos e Sucatas"
        ],
        [
         46869,
         "Comercio Atacadista de Papel e Papelao em Bruto e de Embalagens"
        ],
        [
         46851,
         "Comercio Atacadista de Produtos Siderurgicos e Metalurgicos, Exceto para Construcao"
        ],
        [
         46842,
         "Comercio Atacadista de Produtos Quimicos e Petroquimicos, Exceto Agroquimicos"
        ],
        [
         46834,
         "Comercio Atacadista de Defensivos Agricolas, Adubos, Fertilizantes e Corretivos do Solo"
        ],
        [
         46826,
         "Comercio Atacadista de Gas LiquEfeito de Petroleo (Glp)"
        ],
        [
         46818,
         "Comercio Atacadista de Combustiveis Solidos, Liquidos e Gasosos, Exceto Gas Natural e Glp"
        ],
        [
         46796,
         "Comercio Atacadista Especializado de Materiais de Construcao nao Especificados Anteriormente e de Materiais de Construcao em Geral"
        ],
        [
         46745,
         "Comercio Atacadista de Cimento"
        ],
        [
         46737,
         "Comercio Atacadista de Material Eletrico"
        ],
        [
         46729,
         "Comercio Atacadista de Ferragens e Ferramentas"
        ],
        [
         46711,
         "Comercio Atacadista de Madeira e Produtos Derivados"
        ],
        [
         46699,
         "Comercio Atacadista de Maquinas, Aparelhos e Equipamentos nao Especificados Anteriormente"
        ],
        [
         46656,
         "Comercio Atacadista de Maquinas e Equipamentos para Uso Comercial"
        ],
        [
         46648,
         "Comercio Atacadista de Maquinas, Aparelhos e Equipamentos para Uso Odonto-Medico-Hospitalar"
        ],
        [
         46630,
         "Comercio Atacadista de Maquinas e Equipamentos para Uso Industrial"
        ],
        [
         46621,
         "Comercio Atacadista de Maquinas, Equipamentos para Terraplenagem, Mineracao e Construcao"
        ],
        [
         46613,
         "Comercio Atacadista de Maquinas, Aparelhos e Equipamentos para Uso Agropecuario"
        ],
        [
         46524,
         "Comercio Atacadista de Componentes Eletronicos e Equipamentos de Telefonia e Comunicacao"
        ],
        [
         46516,
         "Comercio Atacadista de Computadores, Perifericos e Suprimentos de Informatica"
        ],
        [
         46494,
         "Comercio Atacadista de Equipamentos e Artigos de Uso Pessoal e Domestico nao Especificados Anteriormente"
        ],
        [
         46478,
         "Comercio Atacadista de Artigos de Escritorio e de Papelaria"
        ],
        [
         46460,
         "Comercio Atacadista de Cosmeticos, Produtos de Perfumaria e de Higiene Pessoal"
        ],
        [
         46451,
         "Comercio Atacadista de Instrumentos e Materiais para Uso Medico, Cirurgico, Ortopedico e Odontologico"
        ],
        [
         46443,
         "Comercio Atacadista de Produtos Farmaceuticos para Uso Humano e Veterinario"
        ],
        [
         46435,
         "Comercio Atacadista de Calcados e Artigos de Viagem"
        ],
        [
         46427,
         "Comercio Atacadista de Artigos do Vestuario e Acessorios"
        ],
        [
         46419,
         "Comercio Atacadista de Tecidos, Artefatos de Tecidos e de Armarinho"
        ],
        [
         46397,
         "Comercio Atacadista de Produtos Alimenticios em Geral"
        ],
        [
         46371,
         "Comercio Atacadista Especializado em Produtos Alimenticios nao Especificados Anteriormente"
        ],
        [
         46362,
         "Comercio Atacadista de Produtos do Fumo"
        ],
        [
         46354,
         "Comercio Atacadista de Bebidas"
        ],
        [
         46346,
         "Comercio Atacadista de Carnes, Produtos da Carne e Pescado"
        ],
        [
         46338,
         "Comercio Atacadista de Hortifrutigranjeiros"
        ],
        [
         46320,
         "Comercio Atacadista de Cereais e Leguminosas Beneficiados, Farinhas, Amidos e Feculas"
        ],
        [
         46311,
         "Comercio Atacadista de Leite e Laticinios"
        ],
        [
         46231,
         "Comercio Atacadista de Animais Vivos, Alimentos para Animais e Materias-Primas Agricolas, Exceto Cafe e Soja"
        ],
        [
         46222,
         "Comercio Atacadista de Soja"
        ],
        [
         46214,
         "Comercio Atacadista de Cafe em Grao"
        ],
        [
         46192,
         "Representantes Comerciais e Agentes do Comercio de Mercadorias em Geral nao Especializado"
        ],
        [
         46184,
         "Representantes Comerciais e Agentes do Comercio Especializado em Produtos nao Especificados Anteriormente"
        ],
        [
         46176,
         "Representantes Comerciais e Agentes do Comercio de Produtos Alimenticios, Bebidas e Fumo"
        ],
        [
         46168,
         "Representantes Comerciais e Agentes do Comercio de Texteis, Vestuario, Calcados e Artigos de Viagem"
        ],
        [
         46150,
         "Representantes Comerciais e Agentes do Comercio de Eletrodomesticos, Moveis e Artigos de Uso Domestico"
        ],
        [
         46141,
         "Representantes Comerciais e Agentes do Comercio de Maquinas, Equipamentos, Embarcacoes e Aeronaves"
        ],
        [
         46133,
         "Representantes Comerciais e Agentes do Comercio de Madeira, Material de Construcao e Ferragens"
        ],
        [
         46125,
         "Representantes Comerciais e Agentes do Comercio de Combustiveis, Minerais, Produtos Siderurgicos e Quimicos"
        ],
        [
         46117,
         "Representantes Comerciais e Agentes do Comercio de Materias-Primas Agricolas e Animais Vivos"
        ],
        [
         45439,
         "Manutencao e Reparacao de Motocicletas"
        ],
        [
         45421,
         "Representantes Comerciais e Agentes do Comercio de Motocicletas, Pecas e Acessorios"
        ],
        [
         45412,
         "Comercio por Atacado e a Varejo de Motocicletas, Pecas e Acessorios"
        ],
        [
         45307,
         "Comercio de Pecas e Acessorios para Veiculos Automotores"
        ],
        [
         45200,
         "Manutencao e Reparacao de Veiculos Automotores"
        ],
        [
         45129,
         "Representantes Comerciais e Agentes do Comercio de Veiculos Automotores"
        ],
        [
         45111,
         "Comercio a Varejo e por Atacado de Veiculos Automotores"
        ]
       ],
       "datasetInfos": [],
       "dbfsResultPath": null,
       "isJsonSchema": true,
       "metadata": {},
       "overflow": false,
       "plotOptions": {
        "customPlotOptions": {},
        "displayType": "table",
        "pivotAggregation": null,
        "pivotColumns": null,
        "xColumns": null,
        "yColumns": null
       },
       "removedWidgets": [],
       "schema": [
        {
         "metadata": "{}",
         "name": "Classe",
         "type": "\"integer\""
        },
        {
         "metadata": "{}",
         "name": "Nome",
         "type": "\"string\""
        }
       ],
       "type": "table"
      }
     },
     "output_type": "display_data"
    }
   ],
   "source": [
    "%sql\n",
    "SELECT *\n",
    "FROM classes"
   ]
  },
  {
   "cell_type": "markdown",
   "metadata": {
    "application/vnd.databricks.v1+cell": {
     "cellMetadata": {
      "byteLimit": 2048000,
      "rowLimit": 10000
     },
     "inputWidgets": {},
     "nuid": "f077b1f0-65f2-460e-ba66-88826a2d39af",
     "showTitle": false,
     "title": ""
    }
   },
   "source": [
    "\n",
    "Seguem abaixo as novas séries, com as transformações realizadas conforme estipulado na etapa anterior."
   ]
  },
  {
   "cell_type": "code",
   "execution_count": 0,
   "metadata": {
    "application/vnd.databricks.v1+cell": {
     "cellMetadata": {
      "byteLimit": 2048000,
      "implicitDf": true,
      "rowLimit": 10000
     },
     "inputWidgets": {},
     "nuid": "d2a5d702-3b46-4adb-b40e-62505b7b2737",
     "showTitle": false,
     "title": ""
    }
   },
   "outputs": [
    {
     "output_type": "display_data",
     "data": {
      "text/html": [
       "<style scoped>\n",
       "  .table-result-container {\n",
       "    max-height: 300px;\n",
       "    overflow: auto;\n",
       "  }\n",
       "  table, th, td {\n",
       "    border: 1px solid black;\n",
       "    border-collapse: collapse;\n",
       "  }\n",
       "  th, td {\n",
       "    padding: 5px;\n",
       "  }\n",
       "  th {\n",
       "    text-align: left;\n",
       "  }\n",
       "</style><div class='table-result-container'><table class='table-result'><thead style='background-color: white'><tr><th>sexo</th></tr></thead><tbody><tr><td>2</td></tr><tr><td>1</td></tr></tbody></table></div>"
      ]
     },
     "metadata": {
      "application/vnd.databricks.v1+output": {
       "addedWidgets": {},
       "aggData": [],
       "aggError": "",
       "aggOverflow": false,
       "aggSchema": [],
       "aggSeriesLimitReached": false,
       "aggType": "",
       "arguments": {},
       "columnCustomDisplayInfos": {},
       "data": [
        [
         2
        ],
        [
         1
        ]
       ],
       "datasetInfos": [],
       "dbfsResultPath": null,
       "isJsonSchema": true,
       "metadata": {},
       "overflow": false,
       "plotOptions": {
        "customPlotOptions": {},
        "displayType": "table",
        "pivotAggregation": null,
        "pivotColumns": null,
        "xColumns": null,
        "yColumns": null
       },
       "removedWidgets": [],
       "schema": [
        {
         "metadata": "{}",
         "name": "sexo",
         "type": "\"integer\""
        }
       ],
       "type": "table"
      }
     },
     "output_type": "display_data"
    }
   ],
   "source": [
    "%sql\n",
    "SELECT DISTINCT sexo\n",
    "FROM rais2022_silver\n",
    "ORDER BY sexo DESC;"
   ]
  },
  {
   "cell_type": "code",
   "execution_count": 0,
   "metadata": {
    "application/vnd.databricks.v1+cell": {
     "cellMetadata": {
      "byteLimit": 2048000,
      "implicitDf": true,
      "rowLimit": 10000
     },
     "inputWidgets": {},
     "nuid": "72e81c3f-1a4b-461d-b08f-f2bd3cd2c1b9",
     "showTitle": false,
     "title": ""
    }
   },
   "outputs": [
    {
     "output_type": "display_data",
     "data": {
      "text/html": [
       "<style scoped>\n",
       "  .table-result-container {\n",
       "    max-height: 300px;\n",
       "    overflow: auto;\n",
       "  }\n",
       "  table, th, td {\n",
       "    border: 1px solid black;\n",
       "    border-collapse: collapse;\n",
       "  }\n",
       "  th, td {\n",
       "    padding: 5px;\n",
       "  }\n",
       "  th {\n",
       "    text-align: left;\n",
       "  }\n",
       "</style><div class='table-result-container'><table class='table-result'><thead style='background-color: white'><tr><th>faixa_etaria</th></tr></thead><tbody><tr><td>8</td></tr><tr><td>7</td></tr><tr><td>6</td></tr><tr><td>5</td></tr><tr><td>4</td></tr><tr><td>3</td></tr><tr><td>2</td></tr><tr><td>1</td></tr></tbody></table></div>"
      ]
     },
     "metadata": {
      "application/vnd.databricks.v1+output": {
       "addedWidgets": {},
       "aggData": [],
       "aggError": "",
       "aggOverflow": false,
       "aggSchema": [],
       "aggSeriesLimitReached": false,
       "aggType": "",
       "arguments": {},
       "columnCustomDisplayInfos": {},
       "data": [
        [
         8
        ],
        [
         7
        ],
        [
         6
        ],
        [
         5
        ],
        [
         4
        ],
        [
         3
        ],
        [
         2
        ],
        [
         1
        ]
       ],
       "datasetInfos": [],
       "dbfsResultPath": null,
       "isJsonSchema": true,
       "metadata": {},
       "overflow": false,
       "plotOptions": {
        "customPlotOptions": {},
        "displayType": "table",
        "pivotAggregation": null,
        "pivotColumns": null,
        "xColumns": null,
        "yColumns": null
       },
       "removedWidgets": [],
       "schema": [
        {
         "metadata": "{}",
         "name": "faixa_etaria",
         "type": "\"integer\""
        }
       ],
       "type": "table"
      }
     },
     "output_type": "display_data"
    }
   ],
   "source": [
    "%sql\n",
    "SELECT DISTINCT faixa_etaria\n",
    "FROM rais2022_silver\n",
    "ORDER BY faixa_etaria DESC;"
   ]
  },
  {
   "cell_type": "code",
   "execution_count": 0,
   "metadata": {
    "application/vnd.databricks.v1+cell": {
     "cellMetadata": {
      "byteLimit": 2048000,
      "implicitDf": true,
      "rowLimit": 10000
     },
     "inputWidgets": {},
     "nuid": "d0c4b83b-2ccd-47c2-a8d4-d21131d55ec5",
     "showTitle": false,
     "title": ""
    }
   },
   "outputs": [
    {
     "output_type": "display_data",
     "data": {
      "text/html": [
       "<style scoped>\n",
       "  .table-result-container {\n",
       "    max-height: 300px;\n",
       "    overflow: auto;\n",
       "  }\n",
       "  table, th, td {\n",
       "    border: 1px solid black;\n",
       "    border-collapse: collapse;\n",
       "  }\n",
       "  th, td {\n",
       "    padding: 5px;\n",
       "  }\n",
       "  th {\n",
       "    text-align: left;\n",
       "  }\n",
       "</style><div class='table-result-container'><table class='table-result'><thead style='background-color: white'><tr><th>escolaridade</th></tr></thead><tbody><tr><td>11</td></tr><tr><td>10</td></tr><tr><td>9</td></tr><tr><td>8</td></tr><tr><td>7</td></tr><tr><td>6</td></tr><tr><td>5</td></tr><tr><td>4</td></tr><tr><td>3</td></tr><tr><td>2</td></tr><tr><td>1</td></tr></tbody></table></div>"
      ]
     },
     "metadata": {
      "application/vnd.databricks.v1+output": {
       "addedWidgets": {},
       "aggData": [],
       "aggError": "",
       "aggOverflow": false,
       "aggSchema": [],
       "aggSeriesLimitReached": false,
       "aggType": "",
       "arguments": {},
       "columnCustomDisplayInfos": {},
       "data": [
        [
         11
        ],
        [
         10
        ],
        [
         9
        ],
        [
         8
        ],
        [
         7
        ],
        [
         6
        ],
        [
         5
        ],
        [
         4
        ],
        [
         3
        ],
        [
         2
        ],
        [
         1
        ]
       ],
       "datasetInfos": [],
       "dbfsResultPath": null,
       "isJsonSchema": true,
       "metadata": {},
       "overflow": false,
       "plotOptions": {
        "customPlotOptions": {},
        "displayType": "table",
        "pivotAggregation": null,
        "pivotColumns": null,
        "xColumns": null,
        "yColumns": null
       },
       "removedWidgets": [],
       "schema": [
        {
         "metadata": "{}",
         "name": "escolaridade",
         "type": "\"integer\""
        }
       ],
       "type": "table"
      }
     },
     "output_type": "display_data"
    }
   ],
   "source": [
    "%sql\n",
    "SELECT DISTINCT escolaridade\n",
    "FROM rais2022_silver\n",
    "ORDER BY escolaridade DESC;"
   ]
  },
  {
   "cell_type": "code",
   "execution_count": 0,
   "metadata": {
    "application/vnd.databricks.v1+cell": {
     "cellMetadata": {
      "byteLimit": 2048000,
      "implicitDf": true,
      "rowLimit": 10000
     },
     "inputWidgets": {},
     "nuid": "374032c4-2544-4d5a-a322-f7ec34a5701a",
     "showTitle": false,
     "title": ""
    }
   },
   "outputs": [
    {
     "output_type": "display_data",
     "data": {
      "text/html": [
       "<style scoped>\n",
       "  .table-result-container {\n",
       "    max-height: 300px;\n",
       "    overflow: auto;\n",
       "  }\n",
       "  table, th, td {\n",
       "    border: 1px solid black;\n",
       "    border-collapse: collapse;\n",
       "  }\n",
       "  th, td {\n",
       "    padding: 5px;\n",
       "  }\n",
       "  th {\n",
       "    text-align: left;\n",
       "  }\n",
       "</style><div class='table-result-container'><table class='table-result'><thead style='background-color: white'><tr><th>cor</th></tr></thead><tbody><tr><td>8</td></tr><tr><td>6</td></tr><tr><td>4</td></tr><tr><td>2</td></tr><tr><td>1</td></tr></tbody></table></div>"
      ]
     },
     "metadata": {
      "application/vnd.databricks.v1+output": {
       "addedWidgets": {},
       "aggData": [],
       "aggError": "",
       "aggOverflow": false,
       "aggSchema": [],
       "aggSeriesLimitReached": false,
       "aggType": "",
       "arguments": {},
       "columnCustomDisplayInfos": {},
       "data": [
        [
         8
        ],
        [
         6
        ],
        [
         4
        ],
        [
         2
        ],
        [
         1
        ]
       ],
       "datasetInfos": [],
       "dbfsResultPath": null,
       "isJsonSchema": true,
       "metadata": {},
       "overflow": false,
       "plotOptions": {
        "customPlotOptions": {},
        "displayType": "table",
        "pivotAggregation": null,
        "pivotColumns": null,
        "xColumns": null,
        "yColumns": null
       },
       "removedWidgets": [],
       "schema": [
        {
         "metadata": "{}",
         "name": "cor",
         "type": "\"integer\""
        }
       ],
       "type": "table"
      }
     },
     "output_type": "display_data"
    }
   ],
   "source": [
    "%sql\n",
    "SELECT DISTINCT cor\n",
    "FROM rais2022_silver\n",
    "ORDER BY cor DESC;"
   ]
  },
  {
   "cell_type": "code",
   "execution_count": 0,
   "metadata": {
    "application/vnd.databricks.v1+cell": {
     "cellMetadata": {
      "byteLimit": 2048000,
      "implicitDf": true,
      "rowLimit": 10000
     },
     "inputWidgets": {},
     "nuid": "432147d8-f6c3-4c29-a4e3-f4c0179180aa",
     "showTitle": false,
     "title": ""
    }
   },
   "outputs": [
    {
     "output_type": "display_data",
     "data": {
      "text/html": [
       "<style scoped>\n",
       "  .table-result-container {\n",
       "    max-height: 300px;\n",
       "    overflow: auto;\n",
       "  }\n",
       "  table, th, td {\n",
       "    border: 1px solid black;\n",
       "    border-collapse: collapse;\n",
       "  }\n",
       "  th, td {\n",
       "    padding: 5px;\n",
       "  }\n",
       "  th {\n",
       "    text-align: left;\n",
       "  }\n",
       "</style><div class='table-result-container'><table class='table-result'><thead style='background-color: white'><tr><th>uf</th></tr></thead><tbody><tr><td>53</td></tr><tr><td>52</td></tr><tr><td>51</td></tr><tr><td>50</td></tr><tr><td>43</td></tr><tr><td>42</td></tr><tr><td>41</td></tr><tr><td>35</td></tr><tr><td>33</td></tr><tr><td>32</td></tr><tr><td>31</td></tr><tr><td>29</td></tr><tr><td>28</td></tr><tr><td>27</td></tr><tr><td>26</td></tr><tr><td>25</td></tr><tr><td>24</td></tr><tr><td>23</td></tr><tr><td>22</td></tr><tr><td>21</td></tr><tr><td>17</td></tr><tr><td>16</td></tr><tr><td>15</td></tr><tr><td>14</td></tr><tr><td>13</td></tr><tr><td>12</td></tr><tr><td>11</td></tr></tbody></table></div>"
      ]
     },
     "metadata": {
      "application/vnd.databricks.v1+output": {
       "addedWidgets": {},
       "aggData": [],
       "aggError": "",
       "aggOverflow": false,
       "aggSchema": [],
       "aggSeriesLimitReached": false,
       "aggType": "",
       "arguments": {},
       "columnCustomDisplayInfos": {},
       "data": [
        [
         53
        ],
        [
         52
        ],
        [
         51
        ],
        [
         50
        ],
        [
         43
        ],
        [
         42
        ],
        [
         41
        ],
        [
         35
        ],
        [
         33
        ],
        [
         32
        ],
        [
         31
        ],
        [
         29
        ],
        [
         28
        ],
        [
         27
        ],
        [
         26
        ],
        [
         25
        ],
        [
         24
        ],
        [
         23
        ],
        [
         22
        ],
        [
         21
        ],
        [
         17
        ],
        [
         16
        ],
        [
         15
        ],
        [
         14
        ],
        [
         13
        ],
        [
         12
        ],
        [
         11
        ]
       ],
       "datasetInfos": [],
       "dbfsResultPath": null,
       "isJsonSchema": true,
       "metadata": {},
       "overflow": false,
       "plotOptions": {
        "customPlotOptions": {},
        "displayType": "table",
        "pivotAggregation": null,
        "pivotColumns": null,
        "xColumns": null,
        "yColumns": null
       },
       "removedWidgets": [],
       "schema": [
        {
         "metadata": "{}",
         "name": "uf",
         "type": "\"integer\""
        }
       ],
       "type": "table"
      }
     },
     "output_type": "display_data"
    }
   ],
   "source": [
    "%sql\n",
    "SELECT DISTINCT uf\n",
    "FROM rais2022_silver\n",
    "ORDER BY uf DESC;"
   ]
  },
  {
   "cell_type": "markdown",
   "metadata": {
    "application/vnd.databricks.v1+cell": {
     "cellMetadata": {
      "byteLimit": 2048000,
      "rowLimit": 10000
     },
     "inputWidgets": {},
     "nuid": "559515c7-7356-4ee3-af3a-bb422ab49d68",
     "showTitle": false,
     "title": ""
    }
   },
   "source": [
    "#####1- A discriminação das mulheres pode ser comprovada por dados? Qual o salário médio das mulheres e dos homens?"
   ]
  },
  {
   "cell_type": "code",
   "execution_count": 0,
   "metadata": {
    "application/vnd.databricks.v1+cell": {
     "cellMetadata": {
      "byteLimit": 2048000,
      "implicitDf": true,
      "rowLimit": 10000
     },
     "inputWidgets": {},
     "nuid": "ff8a081b-3dd9-4e89-a7e1-08a6089973c1",
     "showTitle": false,
     "title": ""
    }
   },
   "outputs": [
    {
     "output_type": "display_data",
     "data": {
      "text/html": [
       "<style scoped>\n",
       "  .table-result-container {\n",
       "    max-height: 300px;\n",
       "    overflow: auto;\n",
       "  }\n",
       "  table, th, td {\n",
       "    border: 1px solid black;\n",
       "    border-collapse: collapse;\n",
       "  }\n",
       "  th, td {\n",
       "    padding: 5px;\n",
       "  }\n",
       "  th {\n",
       "    text-align: left;\n",
       "  }\n",
       "</style><div class='table-result-container'><table class='table-result'><thead style='background-color: white'><tr><th>sexo</th><th>remuneracao_sexo</th></tr></thead><tbody><tr><td>1</td><td>4339.0324753202785</td></tr><tr><td>2</td><td>3482.809441164602</td></tr></tbody></table></div>"
      ]
     },
     "metadata": {
      "application/vnd.databricks.v1+output": {
       "addedWidgets": {},
       "aggData": [],
       "aggError": "",
       "aggOverflow": false,
       "aggSchema": [],
       "aggSeriesLimitReached": false,
       "aggType": "",
       "arguments": {},
       "columnCustomDisplayInfos": {},
       "data": [
        [
         1,
         4339.0324753202785
        ],
        [
         2,
         3482.809441164602
        ]
       ],
       "datasetInfos": [],
       "dbfsResultPath": null,
       "isJsonSchema": true,
       "metadata": {},
       "overflow": false,
       "plotOptions": {
        "customPlotOptions": {},
        "displayType": "table",
        "pivotAggregation": null,
        "pivotColumns": null,
        "xColumns": null,
        "yColumns": null
       },
       "removedWidgets": [],
       "schema": [
        {
         "metadata": "{}",
         "name": "sexo",
         "type": "\"integer\""
        },
        {
         "metadata": "{}",
         "name": "remuneracao_sexo",
         "type": "\"double\""
        }
       ],
       "type": "table"
      }
     },
     "output_type": "display_data"
    }
   ],
   "source": [
    "%sql\n",
    "SELECT sexo, AVG(remuneracao) AS remuneracao_sexo\n",
    "FROM rais2022_silver\n",
    "GROUP BY sexo\n",
    "ORDER BY remuneracao_sexo DESC;"
   ]
  },
  {
   "cell_type": "code",
   "execution_count": 0,
   "metadata": {
    "application/vnd.databricks.v1+cell": {
     "cellMetadata": {
      "byteLimit": 2048000,
      "implicitDf": true,
      "rowLimit": 10000
     },
     "inputWidgets": {},
     "nuid": "372e8191-b71d-4b7a-9e05-01887a0684eb",
     "showTitle": false,
     "title": ""
    }
   },
   "outputs": [
    {
     "output_type": "display_data",
     "data": {
      "text/html": [
       "<style scoped>\n",
       "  .table-result-container {\n",
       "    max-height: 300px;\n",
       "    overflow: auto;\n",
       "  }\n",
       "  table, th, td {\n",
       "    border: 1px solid black;\n",
       "    border-collapse: collapse;\n",
       "  }\n",
       "  th, td {\n",
       "    padding: 5px;\n",
       "  }\n",
       "  th {\n",
       "    text-align: left;\n",
       "  }\n",
       "</style><div class='table-result-container'><table class='table-result'><thead style='background-color: white'><tr><th>sexo</th><th>genero</th></tr></thead><tbody><tr><td>1</td><td>7992716</td></tr><tr><td>2</td><td>6055556</td></tr></tbody></table></div>"
      ]
     },
     "metadata": {
      "application/vnd.databricks.v1+output": {
       "addedWidgets": {},
       "aggData": [],
       "aggError": "",
       "aggOverflow": false,
       "aggSchema": [],
       "aggSeriesLimitReached": false,
       "aggType": "",
       "arguments": {},
       "columnCustomDisplayInfos": {},
       "data": [
        [
         1,
         7992716
        ],
        [
         2,
         6055556
        ]
       ],
       "datasetInfos": [],
       "dbfsResultPath": null,
       "isJsonSchema": true,
       "metadata": {},
       "overflow": false,
       "plotOptions": {
        "customPlotOptions": {},
        "displayType": "table",
        "pivotAggregation": null,
        "pivotColumns": null,
        "xColumns": null,
        "yColumns": null
       },
       "removedWidgets": [],
       "schema": [
        {
         "metadata": "{}",
         "name": "sexo",
         "type": "\"integer\""
        },
        {
         "metadata": "{}",
         "name": "genero",
         "type": "\"long\""
        }
       ],
       "type": "table"
      }
     },
     "output_type": "display_data"
    }
   ],
   "source": [
    "%sql\n",
    "SELECT sexo, COUNT(*) AS genero\n",
    "FROM rais2022_silver\n",
    "GROUP BY sexo\n",
    "ORDER BY genero DESC;"
   ]
  },
  {
   "cell_type": "markdown",
   "metadata": {
    "application/vnd.databricks.v1+cell": {
     "cellMetadata": {
      "byteLimit": 2048000,
      "rowLimit": 10000
     },
     "inputWidgets": {},
     "nuid": "249571e3-bb30-440d-b377-db98abed64b2",
     "showTitle": false,
     "title": ""
    }
   },
   "source": [
    "O salário médio das mulheres do setor terciário foi de 3.483 em 2022, o que representa 80% da remuneração média dos homens no setor e confirma o menor nível salarial do gênero feminino. Deve-se considerar que elas representam menos da metade (43,1%) dos trabalhadores do Brasil e é necessário pensar em formas de incentivar o aumento da entrada delas no mercado de trabalho."
   ]
  },
  {
   "cell_type": "markdown",
   "metadata": {
    "application/vnd.databricks.v1+cell": {
     "cellMetadata": {
      "byteLimit": 2048000,
      "rowLimit": 10000
     },
     "inputWidgets": {},
     "nuid": "92e545e9-c69a-486c-995f-d920e21baf1f",
     "showTitle": false,
     "title": ""
    }
   },
   "source": [
    "#####2- A discriminação de raça pode ser comprovada por dados? Qual o salário médio de cada uma das raças analisadas?"
   ]
  },
  {
   "cell_type": "code",
   "execution_count": 0,
   "metadata": {
    "application/vnd.databricks.v1+cell": {
     "cellMetadata": {
      "byteLimit": 2048000,
      "implicitDf": true,
      "rowLimit": 10000
     },
     "inputWidgets": {},
     "nuid": "4b1c30ce-bbfa-4a48-b7ee-b8b2264148cc",
     "showTitle": false,
     "title": ""
    }
   },
   "outputs": [
    {
     "output_type": "display_data",
     "data": {
      "text/html": [
       "<style scoped>\n",
       "  .table-result-container {\n",
       "    max-height: 300px;\n",
       "    overflow: auto;\n",
       "  }\n",
       "  table, th, td {\n",
       "    border: 1px solid black;\n",
       "    border-collapse: collapse;\n",
       "  }\n",
       "  th, td {\n",
       "    padding: 5px;\n",
       "  }\n",
       "  th {\n",
       "    text-align: left;\n",
       "  }\n",
       "</style><div class='table-result-container'><table class='table-result'><thead style='background-color: white'><tr><th>cor</th><th>remuneracao_cor</th></tr></thead><tbody><tr><td>6</td><td>6769.0480832367</td></tr><tr><td>2</td><td>4775.8470701512815</td></tr><tr><td>1</td><td>3711.0810999702894</td></tr><tr><td>4</td><td>3035.58368649696</td></tr><tr><td>8</td><td>3019.519925042666</td></tr></tbody></table></div>"
      ]
     },
     "metadata": {
      "application/vnd.databricks.v1+output": {
       "addedWidgets": {},
       "aggData": [],
       "aggError": "",
       "aggOverflow": false,
       "aggSchema": [],
       "aggSeriesLimitReached": false,
       "aggType": "",
       "arguments": {},
       "columnCustomDisplayInfos": {},
       "data": [
        [
         6,
         6769.0480832367
        ],
        [
         2,
         4775.8470701512815
        ],
        [
         1,
         3711.0810999702894
        ],
        [
         4,
         3035.58368649696
        ],
        [
         8,
         3019.519925042666
        ]
       ],
       "datasetInfos": [],
       "dbfsResultPath": null,
       "isJsonSchema": true,
       "metadata": {},
       "overflow": false,
       "plotOptions": {
        "customPlotOptions": {},
        "displayType": "table",
        "pivotAggregation": null,
        "pivotColumns": null,
        "xColumns": null,
        "yColumns": null
       },
       "removedWidgets": [],
       "schema": [
        {
         "metadata": "{}",
         "name": "cor",
         "type": "\"integer\""
        },
        {
         "metadata": "{}",
         "name": "remuneracao_cor",
         "type": "\"double\""
        }
       ],
       "type": "table"
      }
     },
     "output_type": "display_data"
    }
   ],
   "source": [
    "%sql\n",
    "SELECT cor, AVG(remuneracao) AS remuneracao_cor\n",
    "FROM rais2022_silver\n",
    "GROUP BY cor\n",
    "ORDER BY remuneracao_cor DESC;"
   ]
  },
  {
   "cell_type": "code",
   "execution_count": 0,
   "metadata": {
    "application/vnd.databricks.v1+cell": {
     "cellMetadata": {
      "byteLimit": 2048000,
      "implicitDf": true,
      "rowLimit": 10000
     },
     "inputWidgets": {},
     "nuid": "25b8b778-20a9-4d23-8d6b-a8bc23cf255c",
     "showTitle": false,
     "title": ""
    }
   },
   "outputs": [
    {
     "output_type": "display_data",
     "data": {
      "text/html": [
       "<style scoped>\n",
       "  .table-result-container {\n",
       "    max-height: 300px;\n",
       "    overflow: auto;\n",
       "  }\n",
       "  table, th, td {\n",
       "    border: 1px solid black;\n",
       "    border-collapse: collapse;\n",
       "  }\n",
       "  th, td {\n",
       "    padding: 5px;\n",
       "  }\n",
       "  th {\n",
       "    text-align: left;\n",
       "  }\n",
       "</style><div class='table-result-container'><table class='table-result'><thead style='background-color: white'><tr><th>cor</th><th>raca</th></tr></thead><tbody><tr><td>2</td><td>7334474</td></tr><tr><td>8</td><td>5630126</td></tr><tr><td>4</td><td>940329</td></tr><tr><td>6</td><td>116415</td></tr><tr><td>1</td><td>26928</td></tr></tbody></table></div>"
      ]
     },
     "metadata": {
      "application/vnd.databricks.v1+output": {
       "addedWidgets": {},
       "aggData": [],
       "aggError": "",
       "aggOverflow": false,
       "aggSchema": [],
       "aggSeriesLimitReached": false,
       "aggType": "",
       "arguments": {},
       "columnCustomDisplayInfos": {},
       "data": [
        [
         2,
         7334474
        ],
        [
         8,
         5630126
        ],
        [
         4,
         940329
        ],
        [
         6,
         116415
        ],
        [
         1,
         26928
        ]
       ],
       "datasetInfos": [],
       "dbfsResultPath": null,
       "isJsonSchema": true,
       "metadata": {},
       "overflow": false,
       "plotOptions": {
        "customPlotOptions": {},
        "displayType": "table",
        "pivotAggregation": null,
        "pivotColumns": null,
        "xColumns": null,
        "yColumns": null
       },
       "removedWidgets": [],
       "schema": [
        {
         "metadata": "{}",
         "name": "cor",
         "type": "\"integer\""
        },
        {
         "metadata": "{}",
         "name": "raca",
         "type": "\"long\""
        }
       ],
       "type": "table"
      }
     },
     "output_type": "display_data"
    }
   ],
   "source": [
    "%sql\n",
    "SELECT cor, COUNT(*) AS raca\n",
    "FROM rais2022_silver\n",
    "GROUP BY cor\n",
    "ORDER BY raca DESC;"
   ]
  },
  {
   "cell_type": "markdown",
   "metadata": {
    "application/vnd.databricks.v1+cell": {
     "cellMetadata": {
      "byteLimit": 2048000,
      "rowLimit": 10000
     },
     "inputWidgets": {},
     "nuid": "1dc74361-8968-4299-afb6-efd4b76f249f",
     "showTitle": false,
     "title": ""
    }
   },
   "source": [
    "A maior média salarial corresponde a quem se considera amarelo - 6.769, seguida pela população branca - 4.776 - e as duas últimas categorias são das pessoas denominadas pretas - 3.036 - e pardas - 3.020.\n",
    "\n",
    "Apesar da população branca não ter as maiores remunerações, eles representam mais da metade (52,2%) dos trabalhadores brasileiros, confirmando a preferência do mercado de trabalho por esses funcionários. "
   ]
  },
  {
   "cell_type": "markdown",
   "metadata": {
    "application/vnd.databricks.v1+cell": {
     "cellMetadata": {
      "byteLimit": 2048000,
      "rowLimit": 10000
     },
     "inputWidgets": {},
     "nuid": "e18c63f2-ecc6-42c1-bc1a-b7d48158ec59",
     "showTitle": false,
     "title": ""
    }
   },
   "source": [
    "#####3- Acredita-se que as pessoas mais novas costumam receber salários menores devido a menor experiencia, pode-se comprovar essa crença com dados?"
   ]
  },
  {
   "cell_type": "code",
   "execution_count": 0,
   "metadata": {
    "application/vnd.databricks.v1+cell": {
     "cellMetadata": {
      "byteLimit": 2048000,
      "implicitDf": true,
      "rowLimit": 10000
     },
     "inputWidgets": {},
     "nuid": "089de3ad-31d5-450a-bc5d-bd3370ca6f08",
     "showTitle": false,
     "title": ""
    }
   },
   "outputs": [
    {
     "output_type": "display_data",
     "data": {
      "text/html": [
       "<style scoped>\n",
       "  .table-result-container {\n",
       "    max-height: 300px;\n",
       "    overflow: auto;\n",
       "  }\n",
       "  table, th, td {\n",
       "    border: 1px solid black;\n",
       "    border-collapse: collapse;\n",
       "  }\n",
       "  th, td {\n",
       "    padding: 5px;\n",
       "  }\n",
       "  th {\n",
       "    text-align: left;\n",
       "  }\n",
       "</style><div class='table-result-container'><table class='table-result'><thead style='background-color: white'><tr><th>faixa_etaria</th><th>remuneracao_idade</th></tr></thead><tbody><tr><td>6</td><td>5198.012395385265</td></tr><tr><td>8</td><td>5170.564066844556</td></tr><tr><td>7</td><td>4910.34251181779</td></tr><tr><td>5</td><td>4441.567947496604</td></tr><tr><td>4</td><td>2961.2288557839524</td></tr><tr><td>3</td><td>1969.1549368812493</td></tr><tr><td>2</td><td>963.4823195818942</td></tr><tr><td>1</td><td>638.910453759723</td></tr></tbody></table></div>"
      ]
     },
     "metadata": {
      "application/vnd.databricks.v1+output": {
       "addedWidgets": {},
       "aggData": [],
       "aggError": "",
       "aggOverflow": false,
       "aggSchema": [],
       "aggSeriesLimitReached": false,
       "aggType": "",
       "arguments": {},
       "columnCustomDisplayInfos": {},
       "data": [
        [
         6,
         5198.012395385265
        ],
        [
         8,
         5170.564066844556
        ],
        [
         7,
         4910.34251181779
        ],
        [
         5,
         4441.567947496604
        ],
        [
         4,
         2961.2288557839524
        ],
        [
         3,
         1969.1549368812493
        ],
        [
         2,
         963.4823195818942
        ],
        [
         1,
         638.910453759723
        ]
       ],
       "datasetInfos": [],
       "dbfsResultPath": null,
       "isJsonSchema": true,
       "metadata": {},
       "overflow": false,
       "plotOptions": {
        "customPlotOptions": {},
        "displayType": "table",
        "pivotAggregation": null,
        "pivotColumns": null,
        "xColumns": null,
        "yColumns": null
       },
       "removedWidgets": [],
       "schema": [
        {
         "metadata": "{}",
         "name": "faixa_etaria",
         "type": "\"integer\""
        },
        {
         "metadata": "{}",
         "name": "remuneracao_idade",
         "type": "\"double\""
        }
       ],
       "type": "table"
      }
     },
     "output_type": "display_data"
    }
   ],
   "source": [
    "%sql\n",
    "SELECT faixa_etaria, AVG(remuneracao) AS remuneracao_idade\n",
    "FROM rais2022_silver\n",
    "GROUP BY faixa_etaria\n",
    "ORDER BY remuneracao_idade DESC;"
   ]
  },
  {
   "cell_type": "code",
   "execution_count": 0,
   "metadata": {
    "application/vnd.databricks.v1+cell": {
     "cellMetadata": {
      "byteLimit": 2048000,
      "implicitDf": true,
      "rowLimit": 10000
     },
     "inputWidgets": {},
     "nuid": "f6c56252-627f-40d8-912c-8145766cff3d",
     "showTitle": false,
     "title": ""
    }
   },
   "outputs": [
    {
     "output_type": "display_data",
     "data": {
      "text/html": [
       "<style scoped>\n",
       "  .table-result-container {\n",
       "    max-height: 300px;\n",
       "    overflow: auto;\n",
       "  }\n",
       "  table, th, td {\n",
       "    border: 1px solid black;\n",
       "    border-collapse: collapse;\n",
       "  }\n",
       "  th, td {\n",
       "    padding: 5px;\n",
       "  }\n",
       "  th {\n",
       "    text-align: left;\n",
       "  }\n",
       "</style><div class='table-result-container'><table class='table-result'><thead style='background-color: white'><tr><th>faixa_etaria</th><th>idade</th></tr></thead><tbody><tr><td>5</td><td>4066205</td></tr><tr><td>6</td><td>2997927</td></tr><tr><td>3</td><td>2461234</td></tr><tr><td>4</td><td>2309966</td></tr><tr><td>7</td><td>1918714</td></tr><tr><td>8</td><td>175003</td></tr><tr><td>2</td><td>116909</td></tr><tr><td>1</td><td>2314</td></tr></tbody></table></div>"
      ]
     },
     "metadata": {
      "application/vnd.databricks.v1+output": {
       "addedWidgets": {},
       "aggData": [],
       "aggError": "",
       "aggOverflow": false,
       "aggSchema": [],
       "aggSeriesLimitReached": false,
       "aggType": "",
       "arguments": {},
       "columnCustomDisplayInfos": {},
       "data": [
        [
         5,
         4066205
        ],
        [
         6,
         2997927
        ],
        [
         3,
         2461234
        ],
        [
         4,
         2309966
        ],
        [
         7,
         1918714
        ],
        [
         8,
         175003
        ],
        [
         2,
         116909
        ],
        [
         1,
         2314
        ]
       ],
       "datasetInfos": [],
       "dbfsResultPath": null,
       "isJsonSchema": true,
       "metadata": {},
       "overflow": false,
       "plotOptions": {
        "customPlotOptions": {},
        "displayType": "table",
        "pivotAggregation": null,
        "pivotColumns": null,
        "xColumns": null,
        "yColumns": null
       },
       "removedWidgets": [],
       "schema": [
        {
         "metadata": "{}",
         "name": "faixa_etaria",
         "type": "\"integer\""
        },
        {
         "metadata": "{}",
         "name": "idade",
         "type": "\"long\""
        }
       ],
       "type": "table"
      }
     },
     "output_type": "display_data"
    }
   ],
   "source": [
    "%sql\n",
    "SELECT faixa_etaria, COUNT(*) AS idade\n",
    "FROM rais2022_silver\n",
    "GROUP BY faixa_etaria\n",
    "ORDER BY idade DESC;"
   ]
  },
  {
   "cell_type": "markdown",
   "metadata": {
    "application/vnd.databricks.v1+cell": {
     "cellMetadata": {
      "byteLimit": 2048000,
      "rowLimit": 10000
     },
     "inputWidgets": {},
     "nuid": "9eab61c7-f0f7-4065-adf5-fda6afcb1ad8",
     "showTitle": false,
     "title": ""
    }
   },
   "source": [
    "Os colaboradores abaixo de 24 anos são os que recebem menores salários, confirmando a hipótese inicial da menor idade ser acompanhada por menor salário, enquanto aqueles entre 40 e 49 anos recebem em média os maiores valores.\n",
    "\n",
    "Pode-se observar um preferência do mercado de trabalho por contratar pessoas entre 30 e 49 anos, somando esses dois grupos encontra-se 50,3% dos funcionários brasileiros. Sendo funcionário mais experientes, no entanto não tão velhos para se tornarem improdutivos."
   ]
  },
  {
   "cell_type": "markdown",
   "metadata": {
    "application/vnd.databricks.v1+cell": {
     "cellMetadata": {
      "byteLimit": 2048000,
      "rowLimit": 10000
     },
     "inputWidgets": {},
     "nuid": "119a580e-581c-437f-9248-7f128561fda7",
     "showTitle": false,
     "title": ""
    }
   },
   "source": [
    "#####4- Acredita-se que as pessoas com menor escolaridade costumam receber salários menores devido ao menor conhecimento, pode-se comprovar essa crença com dados?"
   ]
  },
  {
   "cell_type": "code",
   "execution_count": 0,
   "metadata": {
    "application/vnd.databricks.v1+cell": {
     "cellMetadata": {
      "byteLimit": 2048000,
      "implicitDf": true,
      "rowLimit": 10000
     },
     "inputWidgets": {},
     "nuid": "89046466-9f5c-49e9-8e1f-3a0e0b664821",
     "showTitle": false,
     "title": ""
    }
   },
   "outputs": [
    {
     "output_type": "display_data",
     "data": {
      "text/html": [
       "<style scoped>\n",
       "  .table-result-container {\n",
       "    max-height: 300px;\n",
       "    overflow: auto;\n",
       "  }\n",
       "  table, th, td {\n",
       "    border: 1px solid black;\n",
       "    border-collapse: collapse;\n",
       "  }\n",
       "  th, td {\n",
       "    padding: 5px;\n",
       "  }\n",
       "  th {\n",
       "    text-align: left;\n",
       "  }\n",
       "</style><div class='table-result-container'><table class='table-result'><thead style='background-color: white'><tr><th>escolaridade</th><th>remuneracao_escolaridade</th></tr></thead><tbody><tr><td>10</td><td>26114.70055458715</td></tr><tr><td>11</td><td>18217.16102560787</td></tr><tr><td>9</td><td>11494.694465088623</td></tr><tr><td>8</td><td>4576.643150751637</td></tr><tr><td>7</td><td>2489.364135697803</td></tr><tr><td>5</td><td>2152.43010877633</td></tr><tr><td>4</td><td>2098.56872691009</td></tr><tr><td>1</td><td>2094.6398189387737</td></tr><tr><td>3</td><td>2047.5979745397283</td></tr><tr><td>6</td><td>2043.379161377498</td></tr><tr><td>2</td><td>1997.7664139095205</td></tr></tbody></table></div>"
      ]
     },
     "metadata": {
      "application/vnd.databricks.v1+output": {
       "addedWidgets": {},
       "aggData": [],
       "aggError": "",
       "aggOverflow": false,
       "aggSchema": [],
       "aggSeriesLimitReached": false,
       "aggType": "",
       "arguments": {},
       "columnCustomDisplayInfos": {},
       "data": [
        [
         10,
         26114.70055458715
        ],
        [
         11,
         18217.16102560787
        ],
        [
         9,
         11494.694465088623
        ],
        [
         8,
         4576.643150751637
        ],
        [
         7,
         2489.364135697803
        ],
        [
         5,
         2152.43010877633
        ],
        [
         4,
         2098.56872691009
        ],
        [
         1,
         2094.6398189387737
        ],
        [
         3,
         2047.5979745397283
        ],
        [
         6,
         2043.379161377498
        ],
        [
         2,
         1997.7664139095205
        ]
       ],
       "datasetInfos": [],
       "dbfsResultPath": null,
       "isJsonSchema": true,
       "metadata": {},
       "overflow": false,
       "plotOptions": {
        "customPlotOptions": {},
        "displayType": "table",
        "pivotAggregation": null,
        "pivotColumns": null,
        "xColumns": null,
        "yColumns": null
       },
       "removedWidgets": [],
       "schema": [
        {
         "metadata": "{}",
         "name": "escolaridade",
         "type": "\"integer\""
        },
        {
         "metadata": "{}",
         "name": "remuneracao_escolaridade",
         "type": "\"double\""
        }
       ],
       "type": "table"
      }
     },
     "output_type": "display_data"
    }
   ],
   "source": [
    "%sql\n",
    "SELECT escolaridade, AVG(remuneracao) AS remuneracao_escolaridade\n",
    "FROM rais2022_silver\n",
    "GROUP BY escolaridade\n",
    "ORDER BY remuneracao_escolaridade DESC;"
   ]
  },
  {
   "cell_type": "code",
   "execution_count": 0,
   "metadata": {
    "application/vnd.databricks.v1+cell": {
     "cellMetadata": {
      "byteLimit": 2048000,
      "implicitDf": true,
      "rowLimit": 10000
     },
     "inputWidgets": {},
     "nuid": "3fe046d4-7304-4185-9e11-b286ac174067",
     "showTitle": false,
     "title": ""
    }
   },
   "outputs": [
    {
     "output_type": "display_data",
     "data": {
      "text/html": [
       "<style scoped>\n",
       "  .table-result-container {\n",
       "    max-height: 300px;\n",
       "    overflow: auto;\n",
       "  }\n",
       "  table, th, td {\n",
       "    border: 1px solid black;\n",
       "    border-collapse: collapse;\n",
       "  }\n",
       "  th, td {\n",
       "    padding: 5px;\n",
       "  }\n",
       "  th {\n",
       "    text-align: left;\n",
       "  }\n",
       "</style><div class='table-result-container'><table class='table-result'><thead style='background-color: white'><tr><th>escolaridade</th><th>formacao</th></tr></thead><tbody><tr><td>7</td><td>8335590</td></tr><tr><td>9</td><td>2160002</td></tr><tr><td>6</td><td>992437</td></tr><tr><td>5</td><td>940002</td></tr><tr><td>8</td><td>792522</td></tr><tr><td>4</td><td>458750</td></tr><tr><td>3</td><td>163706</td></tr><tr><td>2</td><td>143959</td></tr><tr><td>10</td><td>28111</td></tr><tr><td>1</td><td>25461</td></tr><tr><td>11</td><td>7732</td></tr></tbody></table></div>"
      ]
     },
     "metadata": {
      "application/vnd.databricks.v1+output": {
       "addedWidgets": {},
       "aggData": [],
       "aggError": "",
       "aggOverflow": false,
       "aggSchema": [],
       "aggSeriesLimitReached": false,
       "aggType": "",
       "arguments": {},
       "columnCustomDisplayInfos": {},
       "data": [
        [
         7,
         8335590
        ],
        [
         9,
         2160002
        ],
        [
         6,
         992437
        ],
        [
         5,
         940002
        ],
        [
         8,
         792522
        ],
        [
         4,
         458750
        ],
        [
         3,
         163706
        ],
        [
         2,
         143959
        ],
        [
         10,
         28111
        ],
        [
         1,
         25461
        ],
        [
         11,
         7732
        ]
       ],
       "datasetInfos": [],
       "dbfsResultPath": null,
       "isJsonSchema": true,
       "metadata": {},
       "overflow": false,
       "plotOptions": {
        "customPlotOptions": {},
        "displayType": "table",
        "pivotAggregation": null,
        "pivotColumns": null,
        "xColumns": null,
        "yColumns": null
       },
       "removedWidgets": [],
       "schema": [
        {
         "metadata": "{}",
         "name": "escolaridade",
         "type": "\"integer\""
        },
        {
         "metadata": "{}",
         "name": "formacao",
         "type": "\"long\""
        }
       ],
       "type": "table"
      }
     },
     "output_type": "display_data"
    }
   ],
   "source": [
    "%sql\n",
    "SELECT escolaridade, COUNT(*) AS formacao\n",
    "FROM rais2022_silver\n",
    "GROUP BY escolaridade\n",
    "ORDER BY formacao DESC;"
   ]
  },
  {
   "cell_type": "markdown",
   "metadata": {
    "application/vnd.databricks.v1+cell": {
     "cellMetadata": {
      "byteLimit": 2048000,
      "rowLimit": 10000
     },
     "inputWidgets": {},
     "nuid": "c289a956-5cea-4e00-a92f-e3f7567a5317",
     "showTitle": false,
     "title": ""
    }
   },
   "source": [
    "Os dados comprovam que há uma grande diferença salarial dependendo do grau de estudo do funcionário, com as pessoas com escolaridade até o 5º ano incompleto recebendo os menores salários. É interessante observar que o nível de renda de quem possui mestrado - 26.115 - é acima de quem tem doutorado - 18.217, provalvemente por terem menos opções de carreira especificamente voltada para os doutorando.\n",
    "\n",
    "Em relação a quantidade de pessoas empregadas, a maior parte possui o ensino médio completo (59,3%), seguida pela população com o nível superior completo (15,4%)."
   ]
  },
  {
   "cell_type": "markdown",
   "metadata": {
    "application/vnd.databricks.v1+cell": {
     "cellMetadata": {
      "byteLimit": 2048000,
      "rowLimit": 10000
     },
     "inputWidgets": {},
     "nuid": "b2aa0c3c-8099-45d9-977d-080f6e0f0de9",
     "showTitle": false,
     "title": ""
    }
   },
   "source": [
    "#####5- São Paulo (código 35) é considerado um dos estados mais avançados do país e, por isso, com maior nivel de salários. Pode-se comprovar essa crença com dados?"
   ]
  },
  {
   "cell_type": "code",
   "execution_count": 0,
   "metadata": {
    "application/vnd.databricks.v1+cell": {
     "cellMetadata": {
      "byteLimit": 2048000,
      "implicitDf": true,
      "rowLimit": 10000
     },
     "inputWidgets": {},
     "nuid": "8464a3fa-ba8b-4b08-a302-aeff79101d55",
     "showTitle": false,
     "title": ""
    }
   },
   "outputs": [
    {
     "output_type": "display_data",
     "data": {
      "text/html": [
       "<style scoped>\n",
       "  .table-result-container {\n",
       "    max-height: 300px;\n",
       "    overflow: auto;\n",
       "  }\n",
       "  table, th, td {\n",
       "    border: 1px solid black;\n",
       "    border-collapse: collapse;\n",
       "  }\n",
       "  th, td {\n",
       "    padding: 5px;\n",
       "  }\n",
       "  th {\n",
       "    text-align: left;\n",
       "  }\n",
       "</style><div class='table-result-container'><table class='table-result'><thead style='background-color: white'><tr><th>uf</th><th>remuneracao_uf</th></tr></thead><tbody><tr><td>53</td><td>7151.892257216753</td></tr><tr><td>35</td><td>4815.875911582386</td></tr><tr><td>43</td><td>4088.623444486743</td></tr><tr><td>33</td><td>4015.8067896248176</td></tr><tr><td>42</td><td>3901.0926059527487</td></tr><tr><td>41</td><td>3767.8149652978695</td></tr><tr><td>51</td><td>3594.150289306611</td></tr><tr><td>26</td><td>3274.479465692664</td></tr><tr><td>31</td><td>3208.2392055226446</td></tr><tr><td>52</td><td>3190.5695646853187</td></tr><tr><td>15</td><td>3164.7026946137244</td></tr><tr><td>32</td><td>3155.698713634867</td></tr><tr><td>50</td><td>3146.0271781815673</td></tr><tr><td>12</td><td>3085.704951759378</td></tr><tr><td>13</td><td>3070.2781393959367</td></tr><tr><td>29</td><td>3017.7357424260963</td></tr><tr><td>11</td><td>3008.8920849372407</td></tr><tr><td>17</td><td>2953.38753866811</td></tr><tr><td>28</td><td>2952.1308295638687</td></tr><tr><td>23</td><td>2864.5434667901623</td></tr><tr><td>25</td><td>2837.3287468862513</td></tr><tr><td>21</td><td>2789.0826510185584</td></tr><tr><td>14</td><td>2663.5237636386523</td></tr><tr><td>27</td><td>2659.054198850918</td></tr><tr><td>22</td><td>2647.0274148921567</td></tr><tr><td>16</td><td>2634.673925574833</td></tr><tr><td>24</td><td>2619.702876531594</td></tr></tbody></table></div>"
      ]
     },
     "metadata": {
      "application/vnd.databricks.v1+output": {
       "addedWidgets": {},
       "aggData": [],
       "aggError": "",
       "aggOverflow": false,
       "aggSchema": [],
       "aggSeriesLimitReached": false,
       "aggType": "",
       "arguments": {},
       "columnCustomDisplayInfos": {},
       "data": [
        [
         53,
         7151.892257216753
        ],
        [
         35,
         4815.875911582386
        ],
        [
         43,
         4088.623444486743
        ],
        [
         33,
         4015.8067896248176
        ],
        [
         42,
         3901.0926059527487
        ],
        [
         41,
         3767.8149652978695
        ],
        [
         51,
         3594.150289306611
        ],
        [
         26,
         3274.479465692664
        ],
        [
         31,
         3208.2392055226446
        ],
        [
         52,
         3190.5695646853187
        ],
        [
         15,
         3164.7026946137244
        ],
        [
         32,
         3155.698713634867
        ],
        [
         50,
         3146.0271781815673
        ],
        [
         12,
         3085.704951759378
        ],
        [
         13,
         3070.2781393959367
        ],
        [
         29,
         3017.7357424260963
        ],
        [
         11,
         3008.8920849372407
        ],
        [
         17,
         2953.38753866811
        ],
        [
         28,
         2952.1308295638687
        ],
        [
         23,
         2864.5434667901623
        ],
        [
         25,
         2837.3287468862513
        ],
        [
         21,
         2789.0826510185584
        ],
        [
         14,
         2663.5237636386523
        ],
        [
         27,
         2659.054198850918
        ],
        [
         22,
         2647.0274148921567
        ],
        [
         16,
         2634.673925574833
        ],
        [
         24,
         2619.702876531594
        ]
       ],
       "datasetInfos": [],
       "dbfsResultPath": null,
       "isJsonSchema": true,
       "metadata": {},
       "overflow": false,
       "plotOptions": {
        "customPlotOptions": {},
        "displayType": "table",
        "pivotAggregation": null,
        "pivotColumns": null,
        "xColumns": null,
        "yColumns": null
       },
       "removedWidgets": [],
       "schema": [
        {
         "metadata": "{}",
         "name": "uf",
         "type": "\"integer\""
        },
        {
         "metadata": "{}",
         "name": "remuneracao_uf",
         "type": "\"double\""
        }
       ],
       "type": "table"
      }
     },
     "output_type": "display_data"
    }
   ],
   "source": [
    "%sql\n",
    "SELECT uf, AVG(remuneracao) AS remuneracao_uf\n",
    "FROM rais2022_silver\n",
    "GROUP BY uf\n",
    "ORDER BY remuneracao_uf DESC;"
   ]
  },
  {
   "cell_type": "code",
   "execution_count": 0,
   "metadata": {
    "application/vnd.databricks.v1+cell": {
     "cellMetadata": {
      "byteLimit": 2048000,
      "implicitDf": true,
      "rowLimit": 10000
     },
     "inputWidgets": {},
     "nuid": "64c08947-b0ff-485e-b613-434bb03f544a",
     "showTitle": false,
     "title": ""
    }
   },
   "outputs": [
    {
     "output_type": "display_data",
     "data": {
      "text/html": [
       "<style scoped>\n",
       "  .table-result-container {\n",
       "    max-height: 300px;\n",
       "    overflow: auto;\n",
       "  }\n",
       "  table, th, td {\n",
       "    border: 1px solid black;\n",
       "    border-collapse: collapse;\n",
       "  }\n",
       "  th, td {\n",
       "    padding: 5px;\n",
       "  }\n",
       "  th {\n",
       "    text-align: left;\n",
       "  }\n",
       "</style><div class='table-result-container'><table class='table-result'><thead style='background-color: white'><tr><th>uf</th><th>estado</th></tr></thead><tbody><tr><td>35</td><td>4560038</td></tr><tr><td>31</td><td>1382166</td></tr><tr><td>33</td><td>1323783</td></tr><tr><td>41</td><td>897924</td></tr><tr><td>43</td><td>859083</td></tr><tr><td>42</td><td>618979</td></tr><tr><td>29</td><td>547159</td></tr><tr><td>52</td><td>420845</td></tr><tr><td>23</td><td>415390</td></tr><tr><td>26</td><td>410045</td></tr><tr><td>32</td><td>322358</td></tr><tr><td>53</td><td>317732</td></tr><tr><td>15</td><td>307198</td></tr><tr><td>51</td><td>266119</td></tr><tr><td>21</td><td>211613</td></tr><tr><td>50</td><td>171836</td></tr><tr><td>13</td><td>164022</td></tr><tr><td>24</td><td>145519</td></tr><tr><td>25</td><td>137697</td></tr><tr><td>22</td><td>125341</td></tr><tr><td>27</td><td>116801</td></tr><tr><td>11</td><td>95082</td></tr><tr><td>28</td><td>88432</td></tr><tr><td>17</td><td>63295</td></tr><tr><td>16</td><td>31226</td></tr><tr><td>12</td><td>24668</td></tr><tr><td>14</td><td>23921</td></tr></tbody></table></div>"
      ]
     },
     "metadata": {
      "application/vnd.databricks.v1+output": {
       "addedWidgets": {},
       "aggData": [],
       "aggError": "",
       "aggOverflow": false,
       "aggSchema": [],
       "aggSeriesLimitReached": false,
       "aggType": "",
       "arguments": {},
       "columnCustomDisplayInfos": {},
       "data": [
        [
         35,
         4560038
        ],
        [
         31,
         1382166
        ],
        [
         33,
         1323783
        ],
        [
         41,
         897924
        ],
        [
         43,
         859083
        ],
        [
         42,
         618979
        ],
        [
         29,
         547159
        ],
        [
         52,
         420845
        ],
        [
         23,
         415390
        ],
        [
         26,
         410045
        ],
        [
         32,
         322358
        ],
        [
         53,
         317732
        ],
        [
         15,
         307198
        ],
        [
         51,
         266119
        ],
        [
         21,
         211613
        ],
        [
         50,
         171836
        ],
        [
         13,
         164022
        ],
        [
         24,
         145519
        ],
        [
         25,
         137697
        ],
        [
         22,
         125341
        ],
        [
         27,
         116801
        ],
        [
         11,
         95082
        ],
        [
         28,
         88432
        ],
        [
         17,
         63295
        ],
        [
         16,
         31226
        ],
        [
         12,
         24668
        ],
        [
         14,
         23921
        ]
       ],
       "datasetInfos": [],
       "dbfsResultPath": null,
       "isJsonSchema": true,
       "metadata": {},
       "overflow": false,
       "plotOptions": {
        "customPlotOptions": {},
        "displayType": "table",
        "pivotAggregation": null,
        "pivotColumns": null,
        "xColumns": null,
        "yColumns": null
       },
       "removedWidgets": [],
       "schema": [
        {
         "metadata": "{}",
         "name": "uf",
         "type": "\"integer\""
        },
        {
         "metadata": "{}",
         "name": "estado",
         "type": "\"long\""
        }
       ],
       "type": "table"
      }
     },
     "output_type": "display_data"
    }
   ],
   "source": [
    "%sql\n",
    "SELECT uf, COUNT(*) AS estado\n",
    "FROM rais2022_silver\n",
    "GROUP BY uf\n",
    "ORDER BY estado DESC;"
   ]
  },
  {
   "cell_type": "markdown",
   "metadata": {
    "application/vnd.databricks.v1+cell": {
     "cellMetadata": {
      "byteLimit": 2048000,
      "rowLimit": 10000
     },
     "inputWidgets": {},
     "nuid": "c75931dc-ee35-4ecc-a080-3d132af22300",
     "showTitle": false,
     "title": ""
    }
   },
   "source": [
    "Os dados mostram que a localidade com maior nível salarial é o Distrito Federal- 7.152, retirando o protagonismo do sudeste, no entanto, compatível por ser uma área política, ficando São Paulo - 4.816 - em segundo lugar. Apesar de refutarmos a hipótese desse estado ter o maior rendimento, São Paulo compreende a maior parte dos trabalhadores brasileiros (32,5%)."
   ]
  },
  {
   "cell_type": "markdown",
   "metadata": {
    "application/vnd.databricks.v1+cell": {
     "cellMetadata": {
      "byteLimit": 2048000,
      "rowLimit": 10000
     },
     "inputWidgets": {},
     "nuid": "0785e4ec-f1eb-4ed4-b36e-a47595207875",
     "showTitle": false,
     "title": ""
    }
   },
   "source": [
    "#####6- Qual atividade do setor terciário apresenta o maior nível salarial?"
   ]
  },
  {
   "cell_type": "code",
   "execution_count": 0,
   "metadata": {
    "application/vnd.databricks.v1+cell": {
     "cellMetadata": {
      "byteLimit": 2048000,
      "implicitDf": true,
      "rowLimit": 10000
     },
     "inputWidgets": {},
     "nuid": "5bec0bc4-17df-4eb6-ba72-ebbaff5b80c9",
     "showTitle": false,
     "title": ""
    }
   },
   "outputs": [
    {
     "output_type": "display_data",
     "data": {
      "text/html": [
       "<style scoped>\n",
       "  .table-result-container {\n",
       "    max-height: 300px;\n",
       "    overflow: auto;\n",
       "  }\n",
       "  table, th, td {\n",
       "    border: 1px solid black;\n",
       "    border-collapse: collapse;\n",
       "  }\n",
       "  th, td {\n",
       "    padding: 5px;\n",
       "  }\n",
       "  th {\n",
       "    text-align: left;\n",
       "  }\n",
       "</style><div class='table-result-container'><table class='table-result'><thead style='background-color: white'><tr><th>cnae</th><th>remuneracao_cnae</th></tr></thead><tbody><tr><td>64239</td><td>44606.74423299517</td></tr><tr><td>64336</td><td>35301.324690454385</td></tr><tr><td>64328</td><td>26944.89764044943</td></tr><tr><td>64611</td><td>24730.25076690215</td></tr><tr><td>64344</td><td>21592.638803582846</td></tr><tr><td>51307</td><td>21231.015</td></tr><tr><td>65308</td><td>19520.698817204302</td></tr><tr><td>64999</td><td>18691.44293066313</td></tr><tr><td>49400</td><td>18576.17177103448</td></tr><tr><td>64212</td><td>18203.867016377895</td></tr></tbody></table></div>"
      ]
     },
     "metadata": {
      "application/vnd.databricks.v1+output": {
       "addedWidgets": {},
       "aggData": [],
       "aggError": "",
       "aggOverflow": false,
       "aggSchema": [],
       "aggSeriesLimitReached": false,
       "aggType": "",
       "arguments": {},
       "columnCustomDisplayInfos": {},
       "data": [
        [
         64239,
         44606.74423299517
        ],
        [
         64336,
         35301.324690454385
        ],
        [
         64328,
         26944.89764044943
        ],
        [
         64611,
         24730.25076690215
        ],
        [
         64344,
         21592.638803582846
        ],
        [
         51307,
         21231.015
        ],
        [
         65308,
         19520.698817204302
        ],
        [
         64999,
         18691.44293066313
        ],
        [
         49400,
         18576.17177103448
        ],
        [
         64212,
         18203.867016377895
        ]
       ],
       "datasetInfos": [],
       "dbfsResultPath": null,
       "isJsonSchema": true,
       "metadata": {},
       "overflow": false,
       "plotOptions": {
        "customPlotOptions": {},
        "displayType": "table",
        "pivotAggregation": null,
        "pivotColumns": null,
        "xColumns": null,
        "yColumns": null
       },
       "removedWidgets": [],
       "schema": [
        {
         "metadata": "{}",
         "name": "cnae",
         "type": "\"integer\""
        },
        {
         "metadata": "{}",
         "name": "remuneracao_cnae",
         "type": "\"double\""
        }
       ],
       "type": "table"
      }
     },
     "output_type": "display_data"
    }
   ],
   "source": [
    "%sql\n",
    "SELECT cnae, AVG(remuneracao) AS remuneracao_cnae\n",
    "FROM rais2022_silver\n",
    "GROUP BY cnae\n",
    "ORDER BY remuneracao_cnae DESC\n",
    "LIMIT 10;"
   ]
  },
  {
   "cell_type": "code",
   "execution_count": 0,
   "metadata": {
    "application/vnd.databricks.v1+cell": {
     "cellMetadata": {
      "byteLimit": 2048000,
      "implicitDf": true,
      "rowLimit": 10000
     },
     "inputWidgets": {},
     "nuid": "ffb54594-e9b0-4962-8578-40baf90fb5e0",
     "showTitle": false,
     "title": ""
    }
   },
   "outputs": [
    {
     "output_type": "display_data",
     "data": {
      "text/html": [
       "<style scoped>\n",
       "  .table-result-container {\n",
       "    max-height: 300px;\n",
       "    overflow: auto;\n",
       "  }\n",
       "  table, th, td {\n",
       "    border: 1px solid black;\n",
       "    border-collapse: collapse;\n",
       "  }\n",
       "  th, td {\n",
       "    padding: 5px;\n",
       "  }\n",
       "  th {\n",
       "    text-align: left;\n",
       "  }\n",
       "</style><div class='table-result-container'><table class='table-result'><thead style='background-color: white'><tr><th>cnae</th><th>classe</th></tr></thead><tbody><tr><td>47113</td><td>1245976</td></tr><tr><td>56112</td><td>976229</td></tr><tr><td>49302</td><td>890320</td></tr><tr><td>47440</td><td>512026</td></tr><tr><td>47814</td><td>505605</td></tr><tr><td>47717</td><td>470442</td></tr><tr><td>45307</td><td>372989</td></tr><tr><td>49213</td><td>339547</td></tr><tr><td>47890</td><td>327442</td></tr><tr><td>47121</td><td>318698</td></tr></tbody></table></div>"
      ]
     },
     "metadata": {
      "application/vnd.databricks.v1+output": {
       "addedWidgets": {},
       "aggData": [],
       "aggError": "",
       "aggOverflow": false,
       "aggSchema": [],
       "aggSeriesLimitReached": false,
       "aggType": "",
       "arguments": {},
       "columnCustomDisplayInfos": {},
       "data": [
        [
         47113,
         1245976
        ],
        [
         56112,
         976229
        ],
        [
         49302,
         890320
        ],
        [
         47440,
         512026
        ],
        [
         47814,
         505605
        ],
        [
         47717,
         470442
        ],
        [
         45307,
         372989
        ],
        [
         49213,
         339547
        ],
        [
         47890,
         327442
        ],
        [
         47121,
         318698
        ]
       ],
       "datasetInfos": [],
       "dbfsResultPath": null,
       "isJsonSchema": true,
       "metadata": {},
       "overflow": false,
       "plotOptions": {
        "customPlotOptions": {},
        "displayType": "table",
        "pivotAggregation": null,
        "pivotColumns": null,
        "xColumns": null,
        "yColumns": null
       },
       "removedWidgets": [],
       "schema": [
        {
         "metadata": "{}",
         "name": "cnae",
         "type": "\"integer\""
        },
        {
         "metadata": "{}",
         "name": "classe",
         "type": "\"long\""
        }
       ],
       "type": "table"
      }
     },
     "output_type": "display_data"
    }
   ],
   "source": [
    "%sql\n",
    "SELECT cnae, COUNT(*) AS classe\n",
    "FROM rais2022_silver\n",
    "GROUP BY cnae\n",
    "ORDER BY classe DESC\n",
    "LIMIT 10;"
   ]
  },
  {
   "cell_type": "markdown",
   "metadata": {
    "application/vnd.databricks.v1+cell": {
     "cellMetadata": {
      "byteLimit": 2048000,
      "rowLimit": 10000
     },
     "inputWidgets": {},
     "nuid": "1de9d8ce-475b-4eb2-bd3b-13de376a854a",
     "showTitle": false,
     "title": ""
    }
   },
   "source": [
    "O maior nível salarial encontrado foi nas atividades de serviços financeiros, sendo as quatro primeiras ligadas a essas funções: Caixas Econômicas - 44.607 / Bancos de Desenvolvimento - 35.301 / Bancos de Investimento - 26.945 / Holdings de Instituições Financeiras - 24.730.\n",
    "\n",
    "A maior parte do quadro de funcionários (15,8%) trabalha em atividades alimentícias. Sendo que 8,9%\tdos trabalhadores brasileiros no setor terciário estão concetrados no Comércio Varejista de Mercadorias em Geral, com Predominância de Produtos Alimentícios - Hipermercados e Supermercados (Cnae 47113) e 6,9%\ttrabalham em Restaurantes e Outros Estabelecimentos de Serviços de Alimentação e Bebidas (Cnae 56112).\n",
    "\n",
    "\n"
   ]
  },
  {
   "cell_type": "markdown",
   "metadata": {
    "application/vnd.databricks.v1+cell": {
     "cellMetadata": {
      "byteLimit": 2048000,
      "rowLimit": 10000
     },
     "inputWidgets": {},
     "nuid": "e3d98d7e-0b72-41ed-bab3-950ba810ed54",
     "showTitle": false,
     "title": ""
    }
   },
   "source": [
    "###Autoavaliação"
   ]
  },
  {
   "cell_type": "markdown",
   "metadata": {
    "application/vnd.databricks.v1+cell": {
     "cellMetadata": {
      "byteLimit": 2048000,
      "rowLimit": 10000
     },
     "inputWidgets": {},
     "nuid": "68348052-0f32-4db3-900f-427dd8ed2ba8",
     "showTitle": false,
     "title": ""
    }
   },
   "source": [
    "Com esse estudo consegui observar as principais características do mercado de trabalho brasileiro, sendo possível responder as perguntas propostas. Para isso não precisei chegar até a camada Gold, com a camada Silver sendo o suficiente para atingir o objetivo. Também não foi necessário criar um modelo de dados em Esquema Estrela ou Snowflake, pois a tabela flat conseguiu responder as perguntas pretendidas no estudo."
   ]
  },
  {
   "cell_type": "code",
   "execution_count": 0,
   "metadata": {
    "application/vnd.databricks.v1+cell": {
     "cellMetadata": {
      "byteLimit": 2048000,
      "implicitDf": true,
      "rowLimit": 10000
     },
     "inputWidgets": {},
     "nuid": "6d033dbd-44b9-456f-ad3d-0cf885dcb90e",
     "showTitle": false,
     "title": ""
    }
   },
   "outputs": [
    {
     "output_type": "display_data",
     "data": {
      "text/html": [
       "<style scoped>\n",
       "  .table-result-container {\n",
       "    max-height: 300px;\n",
       "    overflow: auto;\n",
       "  }\n",
       "  table, th, td {\n",
       "    border: 1px solid black;\n",
       "    border-collapse: collapse;\n",
       "  }\n",
       "  th, td {\n",
       "    padding: 5px;\n",
       "  }\n",
       "  th {\n",
       "    text-align: left;\n",
       "  }\n",
       "</style><div class='table-result-container'><table class='table-result'><thead style='background-color: white'><tr><th>correlation_sexo</th><th>correlation_cor</th><th>correlation_idade</th><th>correlation_escolaridade</th><th>correlation_uf</th></tr></thead><tbody><tr><td>-0.027103351053910783</td><td>-0.05164146138749974</td><td>0.07156180731501754</td><td>0.15498704188918808</td><td>0.026432627425250318</td></tr></tbody></table></div>"
      ]
     },
     "metadata": {
      "application/vnd.databricks.v1+output": {
       "addedWidgets": {},
       "aggData": [],
       "aggError": "",
       "aggOverflow": false,
       "aggSchema": [],
       "aggSeriesLimitReached": false,
       "aggType": "",
       "arguments": {},
       "columnCustomDisplayInfos": {},
       "data": [
        [
         -0.027103351053910783,
         -0.05164146138749974,
         0.07156180731501754,
         0.15498704188918808,
         0.026432627425250318
        ]
       ],
       "datasetInfos": [],
       "dbfsResultPath": null,
       "isJsonSchema": true,
       "metadata": {},
       "overflow": false,
       "plotOptions": {
        "customPlotOptions": {},
        "displayType": "table",
        "pivotAggregation": null,
        "pivotColumns": null,
        "xColumns": null,
        "yColumns": null
       },
       "removedWidgets": [],
       "schema": [
        {
         "metadata": "{}",
         "name": "correlation_sexo",
         "type": "\"double\""
        },
        {
         "metadata": "{}",
         "name": "correlation_cor",
         "type": "\"double\""
        },
        {
         "metadata": "{}",
         "name": "correlation_idade",
         "type": "\"double\""
        },
        {
         "metadata": "{}",
         "name": "correlation_escolaridade",
         "type": "\"double\""
        },
        {
         "metadata": "{}",
         "name": "correlation_uf",
         "type": "\"double\""
        }
       ],
       "type": "table"
      }
     },
     "output_type": "display_data"
    }
   ],
   "source": [
    "%sql\n",
    "SELECT \n",
    "    (SELECT CORR(sexo, remuneracao) FROM rais2022_silver) AS correlation_sexo,\n",
    "    (SELECT CORR(cor, remuneracao) FROM rais2022_silver) AS correlation_cor,\n",
    "    (SELECT CORR(faixa_etaria, remuneracao) FROM rais2022_silver) AS correlation_idade,\n",
    "    (SELECT CORR(escolaridade, remuneracao) FROM rais2022_silver) AS correlation_escolaridade,\n",
    "    (SELECT CORR(uf, remuneracao) FROM rais2022_silver) AS correlation_uf;"
   ]
  },
  {
   "cell_type": "markdown",
   "metadata": {
    "application/vnd.databricks.v1+cell": {
     "cellMetadata": {
      "byteLimit": 2048000,
      "rowLimit": 10000
     },
     "inputWidgets": {},
     "nuid": "df2818c4-d602-4ba0-a315-a9a7d5a9085e",
     "showTitle": false,
     "title": ""
    }
   },
   "source": [
    "Pela tabela de correlação entre os dados podemos perceber uma correlação negativa entre gênero e salário, mostrando que o fato de ser mulher (indicador 2) afeta negativamente a remuneração. Em relação a raça, o indicador também ficou abaixo de 0, confirmando que os indicadores maiores (parda, amarela, preta) tem influência negativa. No entanto, ambas as correlação são próximas a 0, representando que o impacto não é tão significativo quanto para as outras características.\n",
    "\n",
    "Tanto a faixa etária, quando o estado de origem e a escolaridade apresentaram correlações positivas, sendo a da escolaridade a mais significativa. Por isso, podemos inferir que a escolaridade é a caraterística que apresenta maior impacto no nível salarial do trabalhador.\n",
    "\n",
    "A correlação com as Cnaes não foi realizada pois elas não possuem uma ordem crescente lógica para analisar, sendo a influência de se ter um número de classe maior ou menos uma informação sem relevância.\n",
    "\n",
    "Uma evolução desse estudo seria analisar as mesmas informações na segmentação de estado, para observar como cada estado se comporta em relação a contratação de mulheres, negros, pessoas mais velhas, com menor escolaridade ou quaisquer outras considerações que julgue relevantes.\n",
    "Também há a possibilidade de analisar essas características dentro de uma cnae específica."
   ]
  }
 ],
 "metadata": {
  "application/vnd.databricks.v1+notebook": {
   "dashboards": [],
   "environmentMetadata": null,
   "language": "python",
   "notebookMetadata": {
    "mostRecentlyExecutedCommandWithImplicitDF": {
     "commandId": 663437878293846,
     "dataframes": [
      "_sqldf"
     ]
    },
    "pythonIndentUnit": 4
   },
   "notebookName": "MVP_Catarina_Engenharia_de_dados",
   "widgets": {}
  }
 },
 "nbformat": 4,
 "nbformat_minor": 0
}
